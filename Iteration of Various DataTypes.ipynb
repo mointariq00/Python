{
 "cells": [
  {
   "cell_type": "code",
   "execution_count": 1,
   "id": "c39c2493-8c86-42b1-8797-18e5fcd5c75a",
   "metadata": {
    "tags": []
   },
   "outputs": [
    {
     "name": "stdout",
     "output_type": "stream",
     "text": [
      "1\n",
      "2\n",
      "3\n"
     ]
    }
   ],
   "source": [
    "#Tuple:\n",
    "t=(1,2,3)\n",
    "for i in t:\n",
    "    print(i)"
   ]
  },
  {
   "cell_type": "code",
   "execution_count": 12,
   "id": "f5d24d9b-b4c8-4bc6-adf0-69d3b6133134",
   "metadata": {
    "tags": []
   },
   "outputs": [
    {
     "name": "stdout",
     "output_type": "stream",
     "text": [
      "1\n",
      "2\n",
      "3\n"
     ]
    }
   ],
   "source": [
    "#List:\n",
    "l=[1,2,3]\n",
    "for i in l:\n",
    "    print(i)"
   ]
  },
  {
   "cell_type": "code",
   "execution_count": 2,
   "id": "d81c83d5-2645-4ff9-b160-c812c7906e10",
   "metadata": {
    "tags": []
   },
   "outputs": [
    {
     "name": "stdout",
     "output_type": "stream",
     "text": [
      "[1 2 3 4]\n",
      "[4 5 6 5]\n"
     ]
    }
   ],
   "source": [
    "#Numpy array:\n",
    "import numpy as np\n",
    "a=np.array([[1,2,3,4],[4,5,6,5]])\n",
    "for i in a:\n",
    "    print(i)"
   ]
  },
  {
   "cell_type": "code",
   "execution_count": 3,
   "id": "6bea258f-c927-49bc-a058-68eb1d821e19",
   "metadata": {
    "tags": []
   },
   "outputs": [
    {
     "name": "stdout",
     "output_type": "stream",
     "text": [
      "1\n",
      "2\n",
      "3\n",
      "4\n",
      "4\n",
      "5\n",
      "6\n",
      "5\n"
     ]
    }
   ],
   "source": [
    "for i in np.nditer(a):\n",
    "    print(i)"
   ]
  },
  {
   "cell_type": "code",
   "execution_count": 4,
   "id": "828784a0-1ae9-4062-9174-1001e6a9c7a7",
   "metadata": {
    "tags": []
   },
   "outputs": [
    {
     "name": "stdout",
     "output_type": "stream",
     "text": [
      "{'Moin': 24, 'Rafi': 29, 'Sid': 26, 'Aneeq': 20}\n"
     ]
    }
   ],
   "source": [
    "#Dictionary:\n",
    "l1 = ['Moin', 'Rafi', 'Sid', 'Aneeq']\n",
    "l2 = [24, 29, 26, 20]\n",
    "d = dict(zip(l1, l2))\n",
    "print(d)"
   ]
  },
  {
   "cell_type": "code",
   "execution_count": 5,
   "id": "d2c85951-4203-4dbb-b85c-fac08f5db238",
   "metadata": {
    "tags": []
   },
   "outputs": [
    {
     "name": "stdout",
     "output_type": "stream",
     "text": [
      "Moin\n",
      "24\n",
      "Rafi\n",
      "29\n",
      "Sid\n",
      "26\n",
      "Aneeq\n",
      "20\n"
     ]
    }
   ],
   "source": [
    "for i,j in d.items():\n",
    "    print(i)\n",
    "    print(j)"
   ]
  },
  {
   "cell_type": "code",
   "execution_count": 7,
   "id": "f860b5f3-ed5a-4429-b629-bb08398ea655",
   "metadata": {},
   "outputs": [
    {
     "name": "stdout",
     "output_type": "stream",
     "text": [
      "Moin\n",
      "924\n",
      "Irfan\n",
      "893\n",
      "Saif\n",
      "800\n",
      "Zawyan\n",
      "790\n"
     ]
    }
   ],
   "source": [
    "#Pandas Series:\n",
    "import pandas as pd\n",
    "series=pd.Series([924, 893, 800, 790],index=['Moin','Irfan','Saif','Zawyan'])\n",
    "series\n",
    "for i,j in series.items():\n",
    "    print(i)\n",
    "    print(j)"
   ]
  },
  {
   "cell_type": "code",
   "execution_count": 8,
   "id": "189b0f6a-d172-42f2-a5d9-d7a6d6474419",
   "metadata": {
    "tags": []
   },
   "outputs": [
    {
     "name": "stdout",
     "output_type": "stream",
     "text": [
      "col1\n",
      "col2\n",
      "col3\n"
     ]
    }
   ],
   "source": [
    "#Pandas DataFrame:\n",
    "import numpy as np\n",
    "import pandas as pd\n",
    "data=np.array([[1,2,3],[3,2,2],[1,4,5],[5,4,3],[6,7,8],[2,3,4]])\n",
    "df=pd.DataFrame(data, columns=['col1','col2','col3'],index=['row1','row2','row3','row4','row5','row6'])\n",
    "for x in df: #Prints cols.\n",
    "    print(x)"
   ]
  },
  {
   "cell_type": "code",
   "execution_count": 9,
   "id": "d18e8742-a90b-49ae-97a1-0a1163242c3e",
   "metadata": {
    "tags": []
   },
   "outputs": [
    {
     "name": "stdout",
     "output_type": "stream",
     "text": [
      "col1\n",
      "[1 3 1 5 6 2]\n",
      "col2\n",
      "[2 2 4 4 7 3]\n",
      "col3\n",
      "[3 2 5 3 8 4]\n"
     ]
    }
   ],
   "source": [
    "'''To iterate over the columns of the DataFrame:'''\n",
    "for column_name, series in df.items(): #Same as Dictionary\n",
    "    print(column_name)\n",
    "    print(series.values)"
   ]
  },
  {
   "cell_type": "code",
   "execution_count": 10,
   "id": "37a94ccf-92fc-4839-9ea4-b73ef8afa44e",
   "metadata": {
    "tags": []
   },
   "outputs": [
    {
     "name": "stdout",
     "output_type": "stream",
     "text": [
      "row1 col1    1\n",
      "col2    2\n",
      "col3    3\n",
      "Name: row1, dtype: int32\n",
      "row2 col1    3\n",
      "col2    2\n",
      "col3    2\n",
      "Name: row2, dtype: int32\n",
      "row3 col1    1\n",
      "col2    4\n",
      "col3    5\n",
      "Name: row3, dtype: int32\n",
      "row4 col1    5\n",
      "col2    4\n",
      "col3    3\n",
      "Name: row4, dtype: int32\n",
      "row5 col1    6\n",
      "col2    7\n",
      "col3    8\n",
      "Name: row5, dtype: int32\n",
      "row6 col1    2\n",
      "col2    3\n",
      "col3    4\n",
      "Name: row6, dtype: int32\n"
     ]
    }
   ],
   "source": [
    "'''iterrows() returns the iterator yielding each index value along with a series containing the data in each row.'''\n",
    "for row_index,row in df.iterrows():\n",
    "    print(row_index,row)"
   ]
  },
  {
   "cell_type": "code",
   "execution_count": 11,
   "id": "cb726263-d73e-4805-90c5-d61495769560",
   "metadata": {
    "tags": []
   },
   "outputs": [
    {
     "name": "stdout",
     "output_type": "stream",
     "text": [
      "Pandas(Index='row1', col1=1, col2=2, col3=3)\n",
      "Pandas(Index='row2', col1=3, col2=2, col3=2)\n",
      "Pandas(Index='row3', col1=1, col2=4, col3=5)\n",
      "Pandas(Index='row4', col1=5, col2=4, col3=3)\n",
      "Pandas(Index='row5', col1=6, col2=7, col3=8)\n",
      "Pandas(Index='row6', col1=2, col2=3, col3=4)\n"
     ]
    }
   ],
   "source": [
    "'''itertuples() method will return an iterator yielding a named tuple for each row in the DataFrame. The first element of the tuple will be the row’s corresponding index value, while the remaining values are the row values.'''\n",
    "for row in df.itertuples():\n",
    "    print(row)"
   ]
  },
  {
   "cell_type": "code",
   "execution_count": null,
   "id": "f5b6b9ce-1708-4236-bc76-420e5c7eaf2a",
   "metadata": {},
   "outputs": [],
   "source": []
  }
 ],
 "metadata": {
  "kernelspec": {
   "display_name": "Python 3 (ipykernel)",
   "language": "python",
   "name": "python3"
  },
  "language_info": {
   "codemirror_mode": {
    "name": "ipython",
    "version": 3
   },
   "file_extension": ".py",
   "mimetype": "text/x-python",
   "name": "python",
   "nbconvert_exporter": "python",
   "pygments_lexer": "ipython3",
   "version": "3.11.5"
  }
 },
 "nbformat": 4,
 "nbformat_minor": 5
}
