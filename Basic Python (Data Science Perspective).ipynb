{
 "cells": [
  {
   "cell_type": "code",
   "execution_count": 16,
   "id": "38e0afd6-df7d-4742-844a-0e6029ef36c4",
   "metadata": {
    "tags": []
   },
   "outputs": [
    {
     "name": "stdout",
     "output_type": "stream",
     "text": [
      "Prints the values to a stream, or to sys.stdout by default.\n",
      "\n",
      "  sep\n",
      "    string inserted between values, default a space.\n",
      "  end\n",
      "    string appended after the last value, default a newline.\n",
      "  file\n",
      "    a file-like object (stream); defaults to the current sys.stdout.\n",
      "  flush\n",
      "    whether to forcibly flush the stream.\n"
     ]
    }
   ],
   "source": [
    "#1. Docsring: Tells about function\n",
    "print(print.__doc__)"
   ]
  },
  {
   "cell_type": "code",
   "execution_count": 17,
   "id": "3698cb1c-a6bb-46f0-9619-7ba5fdb90e56",
   "metadata": {
    "tags": []
   },
   "outputs": [
    {
     "name": "stdout",
     "output_type": "stream",
     "text": [
      "Returns sum of x and y\n",
      "    Arg(x) must be int or float\n",
      "    Arg(y) must be int or float\n"
     ]
    }
   ],
   "source": [
    "#We can add docstring to our function:\n",
    "def f(x,y):\n",
    "    '''Returns sum of x and y\n",
    "    Arg(x) must be int or float\n",
    "    Arg(y) must be int or float'''\n",
    "    return x+y\n",
    "print(f.__doc__)"
   ]
  },
  {
   "cell_type": "code",
   "execution_count": null,
   "id": "31bcd2bf-f620-4728-8de7-a8381bb2a7a3",
   "metadata": {},
   "outputs": [],
   "source": [
    "# A function should Do one thing only i.e. we should not create a function that do multiple task at once, instead we should nest or create seperate functions for each task to reduce error probability and easy debugging."
   ]
  },
  {
   "cell_type": "code",
   "execution_count": 2,
   "id": "badbce15-0559-4c52-8f94-ec9de92605d2",
   "metadata": {
    "tags": []
   },
   "outputs": [],
   "source": [
    "#2. Context Manager: In Python, a context manager is a way to allocate and release resources precisely when you want to. The most common use of context managers is with the with statement, which ensures that resources are properly cleaned up when the code block inside the with statement is exited.\n",
    "with open('example.txt', 'r') as file: #as file assigned the variable file to opened data\n",
    "    content = file.read()\n",
    "# The file is automatically closed after the block."
   ]
  },
  {
   "cell_type": "code",
   "execution_count": 4,
   "id": "dd1dc66a-93bd-4570-bfe3-256748b8cea6",
   "metadata": {
    "tags": []
   },
   "outputs": [
    {
     "name": "stdout",
     "output_type": "stream",
     "text": [
      "Hey!\n",
      "You Moin\n",
      "See you Soon!\n"
     ]
    }
   ],
   "source": [
    "#open is a built-in context manager, we can create our own context manager as below:\n",
    "import contextlib\n",
    "@contextlib.contextmanager\n",
    "def my_context(name):\n",
    "    print('Hey!') #Here we can add any start-up code\n",
    "    yield name #This is must in context manager. When you write yeild word, it means that you are going to return a value, but you expect to finish the rest of the function at some point in the future\n",
    "    print(\"See you Soon!\") #Here we can add any ending code\n",
    "with my_context('Moin') as foo:\n",
    "    print(f'You {foo}')\n",
    "#If your code follows patterns such as start-stop,start-end,ope-close,connect-disconnect etc. you should use context manager.\n",
    "# We can use nested context managers and try except finally for error handling in context managers."
   ]
  },
  {
   "cell_type": "code",
   "execution_count": 4,
   "id": "d92aa4a9-2da4-4043-b864-186a341d60ab",
   "metadata": {
    "tags": []
   },
   "outputs": [
    {
     "name": "stdout",
     "output_type": "stream",
     "text": [
      "Hello Moin\n",
      "<function f at 0x00000225150D7A60>\n",
      "Hello Moin\n"
     ]
    }
   ],
   "source": [
    "#3. Function as Object: python treats functions as object, like we have other objects in python. Hence, we can store funct. as variables, list and much more.\n",
    "def f(name):\n",
    "    return 'Hello '+name\n",
    "#Store func. as variable (see difference in storage types)\n",
    "x=f('Moin') \n",
    "y=f\n",
    "print(x)\n",
    "print(y)\n",
    "print(y('Moin'))"
   ]
  },
  {
   "cell_type": "code",
   "execution_count": 9,
   "id": "3872f4c3-0c68-4894-81d4-e9cbb1f9e70f",
   "metadata": {
    "tags": []
   },
   "outputs": [
    {
     "name": "stdout",
     "output_type": "stream",
     "text": [
      "[<function f at 0x00000225150D7A60>, <built-in function print>, <built-in function len>]\n",
      "Hello Moin\n",
      "4\n"
     ]
    }
   ],
   "source": [
    "#Store func. in  list:\n",
    "l=[f,print,len]\n",
    "print(l)\n",
    "print(l[0]('Moin'))\n",
    "print(l[2]('Moin'))\n",
    "#Similarly we can store funcs. in dict."
   ]
  },
  {
   "cell_type": "code",
   "execution_count": 1,
   "id": "17446f1e-8e90-4cde-853b-a8ab6e54ec81",
   "metadata": {
    "tags": []
   },
   "outputs": [
    {
     "name": "stdout",
     "output_type": "stream",
     "text": [
      "congratulations!!!\n",
      "you!!!\n"
     ]
    }
   ],
   "source": [
    "#4. Functions with Multiple Parameters:\n",
    "def shout_all(word1,word2):\n",
    "    shout1=str(word1)+'!!!'\n",
    "    shout2=str(word2)+'!!!'\n",
    "    shout_words=(shout1,shout2)\n",
    "    return shout_words\n",
    "yell1,yell2=shout_all('congratulations','you')\n",
    "print(yell1)\n",
    "print(yell2)\n",
    "#UYNDERSTAND IT"
   ]
  },
  {
   "cell_type": "code",
   "execution_count": 2,
   "id": "a582acad-667f-4b1e-bf00-6491f49cc9fb",
   "metadata": {},
   "outputs": [
    {
     "name": "stdout",
     "output_type": "stream",
     "text": [
      "{'RL': 2274, 'RH': 27, 'FV': 139, 'RM': 462, 'C (all)': 25, 'I (all)': 2, 'A (agr)': 2}\n"
     ]
    }
   ],
   "source": [
    "import pathlib\n",
    "import pandas as pd\n",
    "path=pathlib.Path.cwd()/'Ames_Housing_Data1.tsv'\n",
    "df=pd.read_csv(path,delimiter='\\t')\n",
    "#Defining Function on Pandas DF:\n",
    "def count_entries(df,col_name):\n",
    "    \"\"\"Return a dictionary with counts of \n",
    "    occurrences as value for each key.\"\"\"\n",
    "    langs_count = {}\n",
    "    col = df[col_name]\n",
    "    for entry in col:\n",
    "        if entry in langs_count.keys():\n",
    "            langs_count[entry]=langs_count[entry]+1\n",
    "        else:\n",
    "            langs_count[entry]=1\n",
    "    return langs_count\n",
    "result=count_entries(df,'MS Zoning')\n",
    "print(result)"
   ]
  },
  {
   "cell_type": "code",
   "execution_count": 3,
   "id": "e92b53f4-82dc-4582-a415-bdd49bd38098",
   "metadata": {
    "tags": []
   },
   "outputs": [
    {
     "data": {
      "text/plain": [
       "1"
      ]
     },
     "execution_count": 3,
     "metadata": {},
     "output_type": "execute_result"
    }
   ],
   "source": [
    "#5. Packing/Unpacking Tuple:\n",
    "a,b,c=(1,3,5)\n",
    "a"
   ]
  },
  {
   "cell_type": "code",
   "execution_count": 4,
   "id": "9f86e43e-6f25-41af-b134-b5f59a921a07",
   "metadata": {
    "tags": []
   },
   "outputs": [
    {
     "data": {
      "text/plain": [
       "5"
      ]
     },
     "execution_count": 4,
     "metadata": {},
     "output_type": "execute_result"
    }
   ],
   "source": [
    "T=(1,5,5)\n",
    "a,b,c=T\n",
    "b"
   ]
  },
  {
   "cell_type": "code",
   "execution_count": 5,
   "id": "1015094f-2e74-4cfc-9033-1c6179b21486",
   "metadata": {
    "tags": []
   },
   "outputs": [
    {
     "name": "stdout",
     "output_type": "stream",
     "text": [
      "hellohello hellohellohello\n"
     ]
    }
   ],
   "source": [
    "#6. Nested Functions\n",
    "def echo(n):\n",
    "    \"\"\"Return the inner_echo function.\"\"\"\n",
    "    def inner_echo(word1):\n",
    "        \"\"\"Concatenate n copies of word1.\"\"\"\n",
    "        echo_word = word1 * n\n",
    "        return echo_word\n",
    "    return inner_echo  \n",
    "# Call twice() and thrice() then print\n",
    "print(echo(2)('hello'), echo(3)('hello'))"
   ]
  },
  {
   "cell_type": "code",
   "execution_count": null,
   "id": "0aa21d17-a94e-423c-b153-1ea261b10fd7",
   "metadata": {},
   "outputs": [],
   "source": [
    "#7. Global/nonlocal xglobal x changes value of x in whole scope while nonlocal x changes value of x in nested scope and is used in nested func.\n",
    "y = 0\n",
    "def h(x):\n",
    "    y = 11\n",
    "    z = x + y\n",
    "    def g(z):\n",
    "        nonlocal y\n",
    "        y = 10\n",
    "        l = x + y + z\n",
    "        return l\n",
    "    result = g(z)\n",
    "    print(y)  # This will print 10 because `g` modifies `y` using `nonlocal`\n",
    "    return result\n",
    "\n",
    "print(h(1))  # Prints 22, because x=1, y=10 (modified by g), and z=12 (from x + y before modification)\n",
    "print(y)     # Prints 0, because global `y` was never changed"
   ]
  },
  {
   "cell_type": "code",
   "execution_count": 7,
   "id": "fed66ed2-897d-4d80-a592-dc87bbc3b90a",
   "metadata": {
    "tags": []
   },
   "outputs": [
    {
     "name": "stdout",
     "output_type": "stream",
     "text": [
      "9 27\n"
     ]
    }
   ],
   "source": [
    "#8. Default Argumentation:\n",
    "def f(x,y=2):\n",
    "    return x**y\n",
    "print(f(3),f(3,3)) #if you specify y it wll use it else it will take default value of y"
   ]
  },
  {
   "cell_type": "code",
   "execution_count": null,
   "id": "b87f5eb2-2bb6-4518-8f89-d71dd3022e15",
   "metadata": {},
   "outputs": [],
   "source": [
    "#9. Variable Length Args. Funcs."
   ]
  },
  {
   "cell_type": "code",
   "execution_count": 8,
   "id": "7084951e-4e76-4f61-9165-2e7ecc07cecd",
   "metadata": {
    "tags": []
   },
   "outputs": [
    {
     "name": "stdout",
     "output_type": "stream",
     "text": [
      "Hello, Alice!\n",
      "Hello, Bob!\n",
      "Hello, Charlie!\n"
     ]
    }
   ],
   "source": [
    "#i. *args: In Python, *args is used in function definitions to allow the function to accept a variable number of arguments. *args is used to pass a non-keyworded, variable-length argument list. The arguments passed to the function are stored in a tuple.\n",
    "def greet(greeting, *args):\n",
    "    for name in args:\n",
    "        print(f\"{greeting}, {name}!\")\n",
    "greet(\"Hello\", \"Alice\", \"Bob\", \"Charlie\")"
   ]
  },
  {
   "cell_type": "code",
   "execution_count": 9,
   "id": "a7e33fba-e70e-4665-a83e-8fd6b2dc140f",
   "metadata": {
    "tags": []
   },
   "outputs": [
    {
     "name": "stdout",
     "output_type": "stream",
     "text": [
      "Hello\n",
      "name: Alice\n",
      "age: 30\n",
      "city: New York\n"
     ]
    }
   ],
   "source": [
    "#ii. **kwargs:In Python, **kwargs is used in function definitions to allow the function to accept an arbitrary number of keyword arguments. kwargs stands for keyword arguments and is stored in a dictionary. This allows you to pass a variable number of arguments to a function, where the arguments are specified by keywords.\n",
    "def greet(greeting, **kwargs):\n",
    "    print(greeting)\n",
    "    for key, value in kwargs.items():\n",
    "        print(f\"{key}: {value}\")\n",
    "greet(\"Hello\", name=\"Alice\", age=30, city=\"New York\")"
   ]
  },
  {
   "cell_type": "code",
   "execution_count": 10,
   "id": "6e066684-e621-4d9a-ac6b-0421e962a73c",
   "metadata": {},
   "outputs": [
    {
     "name": "stdout",
     "output_type": "stream",
     "text": [
      "heyheyheyheyhey\n"
     ]
    }
   ],
   "source": [
    "#10. Lambda Function:\n",
    "echo_word = lambda word1,echo:word1*echo\n",
    "result = echo_word('hey',5)\n",
    "print(result)"
   ]
  },
  {
   "cell_type": "code",
   "execution_count": null,
   "id": "0eaffd05-ceaf-4c1d-9b29-31452c34fae4",
   "metadata": {},
   "outputs": [],
   "source": [
    "#11. Map/Filter"
   ]
  },
  {
   "cell_type": "code",
   "execution_count": 11,
   "id": "9ff79b89-3d28-4db7-8bf4-6586d9f39ed4",
   "metadata": {
    "tags": []
   },
   "outputs": [
    {
     "name": "stdout",
     "output_type": "stream",
     "text": [
      "<map object at 0x000002126E98CC70>\n",
      "['protego!!!', 'accio!!!', 'expecto patronum!!!', 'legilimens!!!']\n"
     ]
    }
   ],
   "source": [
    "#Map (alternate to For loop) & Lambda Function: The map function in Python applies a given function to all the items in an input list (or any other iterable) and returns a map object (which is an iterator). This is a convenient way to apply a transformation to each element in a collection without using a loop.\n",
    "names = [\"protego\", \"accio\", \"expecto patronum\", \"legilimens\"]\n",
    "# Use map() to apply a lambda function over names\n",
    "shout_names = map(lambda item:item+'!!!' ,names)\n",
    "print(shout_names)\n",
    "print(list(shout_names))"
   ]
  },
  {
   "cell_type": "code",
   "execution_count": 12,
   "id": "c78debf0-9a12-4372-9261-8525c381a172",
   "metadata": {
    "tags": []
   },
   "outputs": [
    {
     "name": "stdout",
     "output_type": "stream",
     "text": [
      "<filter object at 0x000002126E98CDF0>\n",
      "['samwise', 'aragorn', 'boromir', 'legolas', 'gandalf']\n"
     ]
    }
   ],
   "source": [
    "#Filter (alternate to if) & Lambda Function: The filter function in Python is used to construct an iterator from elements of an iterable for which a function returns true. This function is useful for filtering elements out of a sequence based on a condition.\n",
    "fellowship = ['frodo', 'samwise', 'merry', 'pippin', 'aragorn', 'boromir', 'legolas', 'gimli', 'gandalf']\n",
    "result = filter(lambda member:len(member)>6 , fellowship)\n",
    "print(result)\n",
    "print(list(result))"
   ]
  },
  {
   "cell_type": "code",
   "execution_count": 13,
   "id": "2b4e9e10-b2f9-43d8-95ea-ca38da2a8e9e",
   "metadata": {},
   "outputs": [],
   "source": [
    "#12. Error Handling:"
   ]
  },
  {
   "cell_type": "code",
   "execution_count": 14,
   "id": "d54f087c-95cf-4d1c-8756-3e42e6ce9961",
   "metadata": {},
   "outputs": [
    {
     "name": "stdout",
     "output_type": "stream",
     "text": [
      "2.23606797749979\n",
      "x must be an integer or float\n",
      "None\n"
     ]
    }
   ],
   "source": [
    "def sqrt(x):\n",
    "    try:\n",
    "        return x**0.5\n",
    "    except:\n",
    "        print('x must be an integer or float')\n",
    "print(sqrt(5))\n",
    "print(sqrt('5'))"
   ]
  },
  {
   "cell_type": "code",
   "execution_count": 32,
   "id": "c94c1df4-c653-4c50-a8e6-0b54f1bfb001",
   "metadata": {
    "tags": []
   },
   "outputs": [
    {
     "name": "stdout",
     "output_type": "stream",
     "text": [
      "0.1\n",
      "Error: Cannot divide by zero.\n",
      "None\n"
     ]
    },
    {
     "ename": "TypeError",
     "evalue": "unsupported operand type(s) for /: 'int' and 'str'",
     "output_type": "error",
     "traceback": [
      "\u001b[1;31m---------------------------------------------------------------------------\u001b[0m",
      "\u001b[1;31mTypeError\u001b[0m                                 Traceback (most recent call last)",
      "Cell \u001b[1;32mIn[32], line 8\u001b[0m\n\u001b[0;32m      6\u001b[0m \u001b[38;5;28mprint\u001b[39m(f(\u001b[38;5;241m10\u001b[39m,\u001b[38;5;241m100\u001b[39m))\n\u001b[0;32m      7\u001b[0m \u001b[38;5;28mprint\u001b[39m(f(\u001b[38;5;241m10\u001b[39m,\u001b[38;5;241m0\u001b[39m))\n\u001b[1;32m----> 8\u001b[0m \u001b[38;5;28mprint\u001b[39m(f(\u001b[38;5;241m10\u001b[39m\u001b[38;5;241m/\u001b[39m\u001b[38;5;124m'\u001b[39m\u001b[38;5;124m0\u001b[39m\u001b[38;5;124m'\u001b[39m))\n",
      "\u001b[1;31mTypeError\u001b[0m: unsupported operand type(s) for /: 'int' and 'str'"
     ]
    }
   ],
   "source": [
    "def f(x,y):\n",
    "    try:\n",
    "        return x/y\n",
    "    except ZeroDivisionError: #We only excepted ZeroDivisionError\n",
    "        print(\"Error: Cannot divide by zero.\")\n",
    "print(f(10,100))\n",
    "print(f(10,0))\n",
    "print(f(10/'0'))"
   ]
  },
  {
   "cell_type": "code",
   "execution_count": 33,
   "id": "f92f924f-509e-4bac-b8a8-eca3ffdd10d1",
   "metadata": {
    "tags": []
   },
   "outputs": [
    {
     "name": "stdout",
     "output_type": "stream",
     "text": [
      "particleparticleparticleparticleparticle!!!\n"
     ]
    },
    {
     "ename": "ValueError",
     "evalue": "echo must be greater than or equal to 0",
     "output_type": "error",
     "traceback": [
      "\u001b[1;31m---------------------------------------------------------------------------\u001b[0m",
      "\u001b[1;31mValueError\u001b[0m                                Traceback (most recent call last)",
      "Cell \u001b[1;32mIn[33], line 16\u001b[0m\n\u001b[0;32m     14\u001b[0m \u001b[38;5;66;03m# Call shout_echo\u001b[39;00m\n\u001b[0;32m     15\u001b[0m \u001b[38;5;28mprint\u001b[39m(shout_echo(\u001b[38;5;124m\"\u001b[39m\u001b[38;5;124mparticle\u001b[39m\u001b[38;5;124m\"\u001b[39m, echo\u001b[38;5;241m=\u001b[39m\u001b[38;5;241m5\u001b[39m))\n\u001b[1;32m---> 16\u001b[0m shout_echo(\u001b[38;5;124m\"\u001b[39m\u001b[38;5;124mparticle\u001b[39m\u001b[38;5;124m\"\u001b[39m, echo\u001b[38;5;241m=\u001b[39m\u001b[38;5;241m-\u001b[39m\u001b[38;5;241m5\u001b[39m)\n",
      "Cell \u001b[1;32mIn[33], line 7\u001b[0m, in \u001b[0;36mshout_echo\u001b[1;34m(word1, echo)\u001b[0m\n\u001b[0;32m      5\u001b[0m \u001b[38;5;66;03m# Raise an error with raise\u001b[39;00m\n\u001b[0;32m      6\u001b[0m \u001b[38;5;28;01mif\u001b[39;00m echo\u001b[38;5;241m<\u001b[39m\u001b[38;5;241m0\u001b[39m:\n\u001b[1;32m----> 7\u001b[0m     \u001b[38;5;28;01mraise\u001b[39;00m \u001b[38;5;167;01mValueError\u001b[39;00m(\u001b[38;5;124m'\u001b[39m\u001b[38;5;124mecho must be greater than or equal to 0\u001b[39m\u001b[38;5;124m'\u001b[39m)\n\u001b[0;32m      8\u001b[0m \u001b[38;5;66;03m# Concatenate echo copies of word1 using *: echo_word\u001b[39;00m\n\u001b[0;32m      9\u001b[0m echo_word \u001b[38;5;241m=\u001b[39m word1 \u001b[38;5;241m*\u001b[39m echo\n",
      "\u001b[1;31mValueError\u001b[0m: echo must be greater than or equal to 0"
     ]
    }
   ],
   "source": [
    "#We can also define raising error for a specific condition:\n",
    "def shout_echo(word1, echo=1):\n",
    "    \"\"\"Concatenate echo copies of word1 and three\n",
    "    exclamation marks at the end of the string.\"\"\"\n",
    "    # Raise an error with raise\n",
    "    if echo<0:\n",
    "        raise ValueError('echo must be greater than or equal to 0')\n",
    "    # Concatenate echo copies of word1 using *: echo_word\n",
    "    echo_word = word1 * echo\n",
    "    # Concatenate '!!!' to echo_word: shout_word\n",
    "    shout_word = echo_word + '!!!'\n",
    "    # Return shout_word\n",
    "    return shout_word\n",
    "# Call shout_echo\n",
    "print(shout_echo(\"particle\", echo=5))\n",
    "shout_echo(\"particle\", echo=-5)"
   ]
  },
  {
   "cell_type": "code",
   "execution_count": null,
   "id": "31a150bf-2b04-4f17-a45b-0d010581d075",
   "metadata": {},
   "outputs": [],
   "source": [
    "#13. Iteration:"
   ]
  },
  {
   "cell_type": "code",
   "execution_count": null,
   "id": "9b3e516f-9b9f-4e6f-8dba-47e83f2abd15",
   "metadata": {
    "tags": []
   },
   "outputs": [],
   "source": [
    "#An iterable is an object that can return an iterator, while an iterator is an object that keeps state and produces the next value when you call next() on it\n",
    "flash = ['jay garrick', 'barry allen', 'wally west', 'bart allen']\n",
    "superhero=iter(flash)\n",
    "# Print each item from the iterator\n",
    "print(superhero)\n",
    "print(next(superhero))\n",
    "print(next(superhero))\n",
    "print(next(superhero))\n",
    "print(next(superhero))\n",
    "#Here flash is iterable and superhero is iterator."
   ]
  },
  {
   "cell_type": "code",
   "execution_count": null,
   "id": "461ebce8-6bbd-43c3-bbb3-a2e12c8cdebc",
   "metadata": {
    "tags": []
   },
   "outputs": [],
   "source": [
    "#or we can use:\n",
    "for i in flash:\n",
    "    print(i)"
   ]
  },
  {
   "cell_type": "code",
   "execution_count": null,
   "id": "c9350705-89f5-4776-b56c-3c56ccdfc7f5",
   "metadata": {
    "tags": []
   },
   "outputs": [],
   "source": [
    "#14. Enumerate & Zip: Enumerate generates an iterator of iterable that contains tuple based on natural indexing, while zip generates an iterator of iterable that contains tuples based on artificial (1st arg. of Zip) indexing\n",
    "l1 = ['Moin', 'Rafi', 'Sid', 'Aneeq']\n",
    "e=enumerate(l1,start=1) #start specifies start of indexing, default is 0\n",
    "print(e)\n",
    "for i in e:\n",
    "    print(i)"
   ]
  },
  {
   "cell_type": "code",
   "execution_count": null,
   "id": "5679a560-4beb-4d50-b17b-5c07e1f41ace",
   "metadata": {
    "tags": []
   },
   "outputs": [],
   "source": [
    "l1 = ['Moin', 'Rafi', 'Sid', 'Aneeq']\n",
    "l2 = [24, 29, 26, 20]\n",
    "z = zip(l1, l2)\n",
    "print(z)\n",
    "for i in z:\n",
    "    print(i)"
   ]
  },
  {
   "cell_type": "code",
   "execution_count": null,
   "id": "51831f15-1890-4d45-961b-af17de140f6d",
   "metadata": {
    "tags": []
   },
   "outputs": [],
   "source": [
    "l1 = ['Moin', 'Rafi', 'Sid', 'Aneeq']\n",
    "l2 = [24, 29, 26, 20]\n",
    "d = dict(zip(l1, l2))\n",
    "l=list(zip(l1,l2))\n",
    "t=tuple(zip(l1,l2))\n",
    "print(d)\n",
    "print(l)\n",
    "print(t)"
   ]
  },
  {
   "cell_type": "code",
   "execution_count": null,
   "id": "506ba482-2896-4445-8d4c-9f0b20c56b37",
   "metadata": {
    "tags": []
   },
   "outputs": [],
   "source": [
    "l1 = ['Moin', 'Rafi', 'Sid', 'Aneeq']\n",
    "l2 = [24, 29, 26, 20]\n",
    "l3=['A','B','C','D']\n",
    "z=zip(l1,l2,l3)\n",
    "for i,j,k in z:\n",
    "    print(i)\n",
    "    print(j)\n",
    "    print(k)"
   ]
  },
  {
   "cell_type": "code",
   "execution_count": null,
   "id": "924fe2ee-6ad2-44d6-bcee-0baa2b4937a4",
   "metadata": {
    "tags": []
   },
   "outputs": [],
   "source": [
    "#Ziping & Unziping with *:\n",
    "z1 = zip(l1,l2)\n",
    "print(*z1) # Print the tuples in z1 by unpacking with *\n",
    "z1 = zip(l1,l2) #Recreate z1\n",
    "result1, result2 = zip(*z1) # 'Unzip' the tuples in z1 by unpacking with * and zip(): result1, result2\n",
    "print(result1)\n",
    "print(result2)"
   ]
  },
  {
   "cell_type": "code",
   "execution_count": null,
   "id": "3586e9d4-7a10-491f-81e1-fcf26d9c462d",
   "metadata": {
    "tags": []
   },
   "outputs": [],
   "source": [
    "#15. Iterating over Chunks of data in Pandas DF: In Pandas, a chunk is a subset of a dataframe that is processed in smaller pieces, rather than loading the entire dataframe into memory at once. This is useful when working with large datasets that exceed available memory. Useful for Dealing BIG DATA\n",
    "import pathlib\n",
    "import pandas as pd\n",
    "path=pathlib.Path.cwd()/'Ames_Housing_Data1.tsv'\n",
    "ck=pd.read_csv(path,delimiter='\\t',chunksize=100)\n",
    "print(ck) #it is an iterable object"
   ]
  },
  {
   "cell_type": "code",
   "execution_count": null,
   "id": "648cc013-23ce-4492-829d-15fa50436a56",
   "metadata": {
    "tags": []
   },
   "outputs": [],
   "source": [
    "CkSP=[]\n",
    "for chunk in ck:\n",
    "    CkSP.append(sum(chunk['SalePrice']))\n",
    "print(CkSP)\n",
    "print(sum(CkSP))\n",
    "#The above loop took sum of first 100 values, then next 100 and so on and then sum of all give us total  sum at end"
   ]
  },
  {
   "cell_type": "code",
   "execution_count": null,
   "id": "ea288d71-0462-48f5-9df5-672076ebb582",
   "metadata": {
    "tags": []
   },
   "outputs": [],
   "source": [
    "df=pd.read_csv(path,delimiter='\\t')\n",
    "df['SalePrice'].sum()"
   ]
  },
  {
   "cell_type": "code",
   "execution_count": null,
   "id": "f66bb321-f984-49da-a496-38f828c1ab44",
   "metadata": {
    "tags": []
   },
   "outputs": [],
   "source": [
    "#We can automate many work on pandas df by using functions\n",
    "# Define count_entries()\n",
    "def count_entries(csv_file,  delim,c_size, colname):\n",
    "    \"\"\"Return a dictionary with counts of\n",
    "    occurrences as value for each key.\"\"\"\n",
    "    # Initialize an empty dictionary: counts_dict\n",
    "    counts_dict = {}\n",
    "    # Iterate over the file chunk by chunk\n",
    "    for chunk in pd.read_csv(csv_file,delimiter=delim,chunksize=c_size):\n",
    "        # Iterate over the column in DataFrame\n",
    "        for entry in chunk[colname]:\n",
    "            if entry in counts_dict.keys():\n",
    "                counts_dict[entry] += 1\n",
    "            else:\n",
    "                counts_dict[entry] = 1\n",
    "    # Return counts_dict\n",
    "    return counts_dict\n",
    "\n",
    "# Call count_entries(): result_counts\n",
    "result_counts = count_entries(path,'\\t', 100, 'Sale Condition')\n",
    "\n",
    "# Print result_counts\n",
    "print(result_counts)\n",
    "print(df['Sale Condition'].value_counts())"
   ]
  },
  {
   "cell_type": "code",
   "execution_count": null,
   "id": "99f2d0e7-0152-493b-8363-50a6b2a88b14",
   "metadata": {},
   "outputs": [],
   "source": [
    "#16. List Comprehension: List comprehension is a concise way to create lists in Python. It allows for the generation of lists by specifying an expression followed by a for loop, and optionally, an if statement to filter items.Basic Syntax: [expression for item in iterable if condition]"
   ]
  },
  {
   "cell_type": "code",
   "execution_count": null,
   "id": "d9edeb02-823b-4b7b-9153-945d612bb944",
   "metadata": {
    "tags": []
   },
   "outputs": [],
   "source": [
    "# Create a list of even numbers from 0 to 9\n",
    "evens = [x for x in range(10) if x % 2 == 0]\n",
    "print(evens)"
   ]
  },
  {
   "cell_type": "code",
   "execution_count": null,
   "id": "45b15439-1ee3-4211-a7b7-a83a433f9d17",
   "metadata": {
    "tags": []
   },
   "outputs": [],
   "source": [
    "# Create a list of tuples (x, y) where x is from 0 to 2 and y is from 0 to 2\n",
    "tuples = [(x, y) for x in range(3) for y in range(3)]\n",
    "print(tuples)"
   ]
  },
  {
   "cell_type": "code",
   "execution_count": null,
   "id": "d748cc12-eaea-4fa3-abc9-2337e4e93443",
   "metadata": {
    "tags": []
   },
   "outputs": [],
   "source": [
    "# Define a function to double a number\n",
    "def double(x):\n",
    "    return x * 2\n",
    "doubled = [double(x) for x in range(5)]\n",
    "print(doubled)"
   ]
  },
  {
   "cell_type": "code",
   "execution_count": null,
   "id": "1aa66b90-d36c-454d-9927-208cef68c8cd",
   "metadata": {
    "tags": []
   },
   "outputs": [],
   "source": [
    "#If else \n",
    "[num ** 2 if num % 2 == 0 else 0 for num in range(10)]"
   ]
  },
  {
   "cell_type": "code",
   "execution_count": null,
   "id": "4fbb2b3c-c5e5-49ef-8178-0d3912c796e5",
   "metadata": {
    "tags": []
   },
   "outputs": [],
   "source": [
    "#17. Dictionary comprehension: {key_expression: value_expression for item in iterable if condition}"
   ]
  },
  {
   "cell_type": "code",
   "execution_count": null,
   "id": "0ffc13f0-7cb5-4562-a96f-8bbb10ac5b2f",
   "metadata": {
    "tags": []
   },
   "outputs": [],
   "source": [
    "# Create a dictionary of even numbers and their squares from 0 to 4\n",
    "even_squares = {x: x**2 for x in range(5) if x % 2 == 0}\n",
    "print(even_squares)"
   ]
  },
  {
   "cell_type": "code",
   "execution_count": null,
   "id": "3c39ead3-34c3-47cd-9b0f-e573f761092c",
   "metadata": {
    "tags": []
   },
   "outputs": [],
   "source": [
    "# Create a list of tuples\n",
    "pairs = [('a', 1), ('b', 2), ('c', 3)]\n",
    "dictionary = {key: value for key, value in pairs}\n",
    "print(dictionary)"
   ]
  },
  {
   "cell_type": "code",
   "execution_count": null,
   "id": "d62e4ee1-f8a5-483d-8355-3e4378d4c401",
   "metadata": {
    "tags": []
   },
   "outputs": [],
   "source": [
    "# Create an initial dictionary\n",
    "original_dict = {'a': 1, 'b': 2, 'c': 3}\n",
    "inverted_dict = {value: key for key, value in original_dict.items()}\n",
    "print(inverted_dict)"
   ]
  },
  {
   "cell_type": "code",
   "execution_count": null,
   "id": "af69590f-18d3-45f0-867c-1861524505e0",
   "metadata": {
    "tags": []
   },
   "outputs": [],
   "source": [
    "#Practical Example:\n",
    "words = [\"hello\", \"world\", \"python\", \"dictionary\", \"comprehension\"]\n",
    "lengths_dict = {word: len(word) for word in words}\n",
    "print(lengths_dict)"
   ]
  },
  {
   "cell_type": "code",
   "execution_count": null,
   "id": "1ff4c2f4-ee9a-4758-93d0-1b79f362eacc",
   "metadata": {
    "tags": []
   },
   "outputs": [],
   "source": [
    "#18. Generator: In Python, generators provide a convenient way to implement iterators. They allow you to iterate over a potentially large dataset without loading the entire dataset into memory. This is achieved by using the yield keyword, which allows the generator to produce a series of values over time instead of computing and returning them all at once. Each call to yield produces a value and pauses the function's execution, maintaining its state for the next call. This allows you to iterate over large datasets or infinite sequences without using excessive memory.\n",
    "# l=[i for i in range(0,10**100)] if you run it, python will cash\n",
    "g=(i for i in range(0,10**100))\n",
    "print(g) #this is generator object which we can work on as required\n",
    "for i in g:\n",
    "    if i<=100:\n",
    "        print(i)"
   ]
  },
  {
   "cell_type": "code",
   "execution_count": null,
   "id": "4c72a806-7d29-40c7-88a7-9a6f59141065",
   "metadata": {
    "tags": []
   },
   "outputs": [],
   "source": [
    "def infinite_sequence(x):\n",
    "    num1 = 0\n",
    "    num2=0\n",
    "    while True:\n",
    "        yield num1**x,num2**x\n",
    "        num1 += 1\n",
    "        num2+=-1\n",
    "# Create an infinite generator\n",
    "gen = infinite_sequence(2)\n",
    "# Print the first 10 numbers in the infinite sequence\n",
    "for i in range(10):\n",
    "    print(next(gen))"
   ]
  },
  {
   "cell_type": "code",
   "execution_count": null,
   "id": "c28b35e3-0cb4-45c5-aeaa-3494725c56b7",
   "metadata": {},
   "outputs": [],
   "source": [
    "19. Closure/Decorators: Advance Python Topics but are crucial in Advanced Data Science (Learn them afterward)"
   ]
  }
 ],
 "metadata": {
  "kernelspec": {
   "display_name": "Python 3 (ipykernel)",
   "language": "python",
   "name": "python3"
  },
  "language_info": {
   "codemirror_mode": {
    "name": "ipython",
    "version": 3
   },
   "file_extension": ".py",
   "mimetype": "text/x-python",
   "name": "python",
   "nbconvert_exporter": "python",
   "pygments_lexer": "ipython3",
   "version": "3.11.5"
  }
 },
 "nbformat": 4,
 "nbformat_minor": 5
}
