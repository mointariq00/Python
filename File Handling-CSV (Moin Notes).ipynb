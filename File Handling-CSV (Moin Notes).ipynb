{
 "cells": [
  {
   "cell_type": "code",
   "execution_count": null,
   "id": "3015d500-f050-4092-88c6-5a90d3df40ee",
   "metadata": {},
   "outputs": [],
   "source": [
    "'''A file is a sequence of bytes and a byte is a number between 0 and 255. That is, a file is a sequence of integer values.'''"
   ]
  },
  {
   "cell_type": "code",
   "execution_count": 3,
   "id": "030de963-0e52-4b85-b9af-5b43c1f18a4b",
   "metadata": {
    "tags": []
   },
   "outputs": [
    {
     "data": {
      "text/plain": [
       "WindowsPath('C:/Users/David/Desktop/hello.txt')"
      ]
     },
     "execution_count": 3,
     "metadata": {},
     "output_type": "execute_result"
    }
   ],
   "source": [
    "# 1. PathHandling:(https://pythonandvba.com/wpcontent/uploads/2021/11/Pathlib_Cheat_Sheet.pdf)\n",
    "'''We can create Path object to store path of a file for utilization in code.'''\n",
    "import pathlib\n",
    "path = pathlib.Path(r\"C:\\Users\\David\\Desktop\\hello.txt\") \n",
    "path"
   ]
  },
  {
   "cell_type": "code",
   "execution_count": 8,
   "id": "381bbe83-f2cc-4357-a63f-2dffe6fc4e03",
   "metadata": {},
   "outputs": [
    {
     "name": "stdout",
     "output_type": "stream",
     "text": [
      "C:\\Users\\scimo\n"
     ]
    }
   ],
   "source": [
    "'''(You can turn the string into a raw string by prefixing it with an r. This tells Python to ignore any escape sequences and just read the string as is) Now Path of hello.txt file is store as object path'''\n",
    "'''Every operating system has a special directory for storing data for the currently logged in user. This directory is called the user’s home directory. The Path.home() class method creates a Path object representing the home directory:'''\n",
    "home=pathlib.Path.home()\n",
    "print(home)"
   ]
  },
  {
   "cell_type": "code",
   "execution_count": 9,
   "id": "6330c884-068c-46fb-a4ff-b030e8e759c5",
   "metadata": {
    "tags": []
   },
   "outputs": [
    {
     "data": {
      "text/plain": [
       "WindowsPath('C:/Users/scimo')"
      ]
     },
     "execution_count": 9,
     "metadata": {},
     "output_type": "execute_result"
    }
   ],
   "source": [
    "'''The pathlib.Path.cwd() class method returns a Path object representing the current working directory,  or CWD.'''\n",
    "cwd=pathlib.Path.cwd()\n",
    "cwd"
   ]
  },
  {
   "cell_type": "code",
   "execution_count": 10,
   "id": "4c3bfe93-624b-4806-a344-452e0daba989",
   "metadata": {
    "tags": []
   },
   "outputs": [
    {
     "data": {
      "text/plain": [
       "WindowsPath('C:/Users/scimo/Desktop/hello.txt')"
      ]
     },
     "execution_count": 10,
     "metadata": {},
     "output_type": "execute_result"
    }
   ],
   "source": [
    "'''Using the / Operator: If you have an existing Path object, you can use the / operator to extend the path with subdirectories or file names. For example, the following creates a Path object representing a file named hello.txt in the Documents subdirectory of the current user’s home directory:''' \n",
    "path=home / \"Desktop\" / \"hello.txt\"\n",
    "path\n",
    "'''The / operator must always have a Path object on the left hand side. The right hand side can have either string representing a single file or directory, or a string representing a path, or another Path object.'''"
   ]
  },
  {
   "cell_type": "code",
   "execution_count": 11,
   "id": "5ae6c06e-f8ad-44fa-91d8-e7ff3f63da4b",
   "metadata": {
    "tags": []
   },
   "outputs": [
    {
     "data": {
      "text/plain": [
       "WindowsPath('C:/Users/scimo/Desktop')"
      ]
     },
     "execution_count": 11,
     "metadata": {},
     "output_type": "execute_result"
    }
   ],
   "source": [
    "'''A path that begins with the root directory in a file system is called an absolute  path. Not all file paths are absolute. A file path that is not absolute is called a relative path. You can check whether or not a file path is absolute using the .is_absolute() method.'''\n",
    "'''The .parent attribute returns the name of the first parent directory in the file path as a string: '''\n",
    "path.parent"
   ]
  },
  {
   "cell_type": "code",
   "execution_count": 12,
   "id": "acfe9343-db2d-45d2-9b39-971c77960b98",
   "metadata": {
    "tags": []
   },
   "outputs": [
    {
     "data": {
      "text/plain": [
       "'hello'"
      ]
     },
     "execution_count": 12,
     "metadata": {},
     "output_type": "execute_result"
    }
   ],
   "source": [
    "path.stem"
   ]
  },
  {
   "cell_type": "code",
   "execution_count": 13,
   "id": "dcb3374d-f13a-414c-813a-af4878e0cbe4",
   "metadata": {
    "tags": []
   },
   "outputs": [
    {
     "data": {
      "text/plain": [
       "'.txt'"
      ]
     },
     "execution_count": 13,
     "metadata": {},
     "output_type": "execute_result"
    }
   ],
   "source": [
    "path.suffix"
   ]
  },
  {
   "cell_type": "code",
   "execution_count": 14,
   "id": "61dc8b2f-902d-4fff-8843-1f4752ca33fc",
   "metadata": {
    "tags": []
   },
   "outputs": [
    {
     "data": {
      "text/plain": [
       "False"
      ]
     },
     "execution_count": 14,
     "metadata": {},
     "output_type": "execute_result"
    }
   ],
   "source": [
    "'''For instance, if you don’t have a hello.txt file in your home directory, then the .exists() method on the Path object representing that file path returns False:'''\n",
    "path.exists()"
   ]
  },
  {
   "cell_type": "code",
   "execution_count": null,
   "id": "b7888e53-a570-46c3-910f-41380ea98e6b",
   "metadata": {},
   "outputs": [],
   "source": [
    "'''You can check whether or not a file path refers to a file or a directory. To check if the path is a file, use the .is_file() method and for directory use .is_dir()."
   ]
  },
  {
   "cell_type": "code",
   "execution_count": 40,
   "id": "aec5b838-521a-4cdc-ba17-c909aa0237d7",
   "metadata": {
    "tags": []
   },
   "outputs": [
    {
     "data": {
      "text/plain": [
       "True"
      ]
     },
     "execution_count": 40,
     "metadata": {},
     "output_type": "execute_result"
    }
   ],
   "source": [
    "# 2. Creating Directory: To create a new directory, use the Path.mkdir() method. In IDLE’s Interactive Window, type the following: \n",
    "new_dir = pathlib.Path.cwd() / \"new_direct\" \n",
    "new_dir.mkdir()\n",
    "#This will create new directory in CWD\n",
    "''''If you want to create a new directory if it doesn’t exists, but avoid raising the FileExistsError if it does, then you can set the options exist_ok parameter of the .mkdir() method to True:''' \n",
    "new_dir.mkdir(exist_ok=True)\n",
    "new_dir.exists()"
   ]
  },
  {
   "cell_type": "code",
   "execution_count": 41,
   "id": "82c65588-6838-46be-b8e1-ae8cce05a8d1",
   "metadata": {
    "tags": []
   },
   "outputs": [
    {
     "data": {
      "text/plain": [
       "True"
      ]
     },
     "execution_count": 41,
     "metadata": {},
     "output_type": "execute_result"
    }
   ],
   "source": [
    "# 3. Creating File: You can create the file using the Path.touch() method:\n",
    "New_file=new_dir/'hello.txt'\n",
    "New_file.touch()\n",
    "#This will create file in new dir.\n",
    "New_file.exists()"
   ]
  },
  {
   "cell_type": "code",
   "execution_count": null,
   "id": "1b60233c-279e-4525-8fe4-0e4cc4926d3b",
   "metadata": {},
   "outputs": [],
   "source": [
    "# 4. Moving: To move a file or directory, use the .replace() method. Syntax: source.replace(destination)\n",
    "'''Where sourceis path object of file/dir to be moved and dest., is  file path of target folder. If the destination folder already exists, it is completely replaces with the source folder, which could result in the loss of quite a bit of data. So we can use:\n",
    "Syntax: if not destination.exists(): \n",
    "            source.replace(destination)'''"
   ]
  },
  {
   "cell_type": "code",
   "execution_count": 42,
   "id": "69c24727-7eb4-492c-bd43-3ecfc4c287ee",
   "metadata": {
    "tags": []
   },
   "outputs": [
    {
     "data": {
      "text/plain": [
       "False"
      ]
     },
     "execution_count": 42,
     "metadata": {},
     "output_type": "execute_result"
    }
   ],
   "source": [
    "#Deleting File: To delete a file, use the .unlink() method. If you want to ignore the exception, set the optional missing_ok parameter to True:\n",
    "New_file.unlink(missing_ok=True)\n",
    "New_file.exists()"
   ]
  },
  {
   "cell_type": "code",
   "execution_count": 43,
   "id": "397503d1-b27b-48aa-afa5-c2e9d4ab5dda",
   "metadata": {
    "tags": []
   },
   "outputs": [
    {
     "ename": "OSError",
     "evalue": "[WinError 145] The directory is not empty: 'C:\\\\Users\\\\scimo\\\\new_direct'",
     "output_type": "error",
     "traceback": [
      "\u001b[1;31m---------------------------------------------------------------------------\u001b[0m",
      "\u001b[1;31mOSError\u001b[0m                                   Traceback (most recent call last)",
      "Cell \u001b[1;32mIn[43], line 5\u001b[0m\n\u001b[0;32m      3\u001b[0m New_file\u001b[38;5;241m.\u001b[39mtouch()\n\u001b[0;32m      4\u001b[0m \u001b[38;5;66;03m#This will create file in new dir\u001b[39;00m\n\u001b[1;32m----> 5\u001b[0m new_dir\u001b[38;5;241m.\u001b[39mrmdir()\n",
      "File \u001b[1;32m~\\anaconda3\\Lib\\pathlib.py:1156\u001b[0m, in \u001b[0;36mPath.rmdir\u001b[1;34m(self)\u001b[0m\n\u001b[0;32m   1152\u001b[0m \u001b[38;5;28;01mdef\u001b[39;00m \u001b[38;5;21mrmdir\u001b[39m(\u001b[38;5;28mself\u001b[39m):\n\u001b[0;32m   1153\u001b[0m \u001b[38;5;250m    \u001b[39m\u001b[38;5;124;03m\"\"\"\u001b[39;00m\n\u001b[0;32m   1154\u001b[0m \u001b[38;5;124;03m    Remove this directory.  The directory must be empty.\u001b[39;00m\n\u001b[0;32m   1155\u001b[0m \u001b[38;5;124;03m    \"\"\"\u001b[39;00m\n\u001b[1;32m-> 1156\u001b[0m     os\u001b[38;5;241m.\u001b[39mrmdir(\u001b[38;5;28mself\u001b[39m)\n",
      "\u001b[1;31mOSError\u001b[0m: [WinError 145] The directory is not empty: 'C:\\\\Users\\\\scimo\\\\new_direct'"
     ]
    }
   ],
   "source": [
    "# 5. Deleting Directory:To remove a directory, use the .rmdir() method. Keep in mind that the folder must be empty, otherwise, an OSError exception is raised:\n",
    "New_file=new_dir/'hello.txt'\n",
    "New_file.touch()\n",
    "#This will create file in new dir\n",
    "new_dir.rmdir()"
   ]
  },
  {
   "cell_type": "code",
   "execution_count": 44,
   "id": "ebe1884f-1022-4509-af16-279c12fb3317",
   "metadata": {
    "tags": []
   },
   "outputs": [
    {
     "data": {
      "text/plain": [
       "True"
      ]
     },
     "execution_count": 44,
     "metadata": {},
     "output_type": "execute_result"
    }
   ],
   "source": [
    "new_dir.exists()"
   ]
  },
  {
   "cell_type": "code",
   "execution_count": 45,
   "id": "52540e4e-84a2-4dd7-ae5f-81d25d89df69",
   "metadata": {
    "tags": []
   },
   "outputs": [
    {
     "data": {
      "text/plain": [
       "False"
      ]
     },
     "execution_count": 45,
     "metadata": {},
     "output_type": "execute_result"
    }
   ],
   "source": [
    "'''If you need to delete an entire directory, even if it is non-empty, then pathlib won’t help you much. However, you can use the rmtree() function from the built-in shutil module:'''\n",
    "import shutil\n",
    "shutil.rmtree(new_dir)\n",
    "#Recall that new_dir folders contains file hello.txt, now the folder and all of it’s contents are deleted.\n",
    "new_dir.exists()"
   ]
  },
  {
   "cell_type": "code",
   "execution_count": 48,
   "id": "59c819fc-7a77-498e-9022-af2bb507af3c",
   "metadata": {
    "tags": []
   },
   "outputs": [
    {
     "name": "stdout",
     "output_type": "stream",
     "text": [
      "C:\\Users\\scimo\\.anaconda\n",
      "C:\\Users\\scimo\\.conda\n",
      "C:\\Users\\scimo\\.condarc\n",
      "C:\\Users\\scimo\\.continuum\n",
      "C:\\Users\\scimo\\.ipynb_checkpoints\n",
      "C:\\Users\\scimo\\.ipython\n",
      "C:\\Users\\scimo\\.jupyter\n",
      "C:\\Users\\scimo\\.matplotlib\n",
      "C:\\Users\\scimo\\.spyder-py3\n",
      "C:\\Users\\scimo\\3D Objects\n",
      "C:\\Users\\scimo\\anaconda3\n",
      "C:\\Users\\scimo\\AppData\n",
      "C:\\Users\\scimo\\Application Data\n",
      "C:\\Users\\scimo\\Contacts\n",
      "C:\\Users\\scimo\\Cookies\n",
      "C:\\Users\\scimo\\Desktop\n",
      "C:\\Users\\scimo\\Documents\n",
      "C:\\Users\\scimo\\Downloads\n",
      "C:\\Users\\scimo\\Favorites\n",
      "C:\\Users\\scimo\\File Handling.ipynb\n",
      "C:\\Users\\scimo\\Fundamental Python.ipynb\n",
      "C:\\Users\\scimo\\IntelGraphicsProfiles\n",
      "C:\\Users\\scimo\\Introductory Pandas.ipynb\n",
      "C:\\Users\\scimo\\Jedi\n",
      "C:\\Users\\scimo\\Links\n",
      "C:\\Users\\scimo\\Local Settings\n",
      "C:\\Users\\scimo\\Matplotlib Object oriented.ipynb\n",
      "C:\\Users\\scimo\\mentalmentor\n",
      "C:\\Users\\scimo\\MicrosoftEdgeBackups\n",
      "C:\\Users\\scimo\\My Documents\n",
      "C:\\Users\\scimo\\NetHood\n",
      "C:\\Users\\scimo\\new_director\n",
      "C:\\Users\\scimo\\new_directory\n",
      "C:\\Users\\scimo\\NTUSER.DAT\n",
      "C:\\Users\\scimo\\ntuser.dat.LOG1\n",
      "C:\\Users\\scimo\\ntuser.dat.LOG2\n",
      "C:\\Users\\scimo\\NTUSER.DAT{e7e96f4d-d252-11ee-a52f-a25dab1982cf}.TM.blf\n",
      "C:\\Users\\scimo\\NTUSER.DAT{e7e96f4d-d252-11ee-a52f-a25dab1982cf}.TMContainer00000000000000000001.regtrans-ms\n",
      "C:\\Users\\scimo\\NTUSER.DAT{e7e96f4d-d252-11ee-a52f-a25dab1982cf}.TMContainer00000000000000000002.regtrans-ms\n",
      "C:\\Users\\scimo\\ntuser.ini\n",
      "C:\\Users\\scimo\\Numpy.ipynb\n",
      "C:\\Users\\scimo\\OneDrive\n",
      "C:\\Users\\scimo\\Pictures\n",
      "C:\\Users\\scimo\\PrintHood\n",
      "C:\\Users\\scimo\\Recent\n",
      "C:\\Users\\scimo\\Saved Games\n",
      "C:\\Users\\scimo\\Scipy Equations Solving.ipynb\n",
      "C:\\Users\\scimo\\Scipy Interpolation.ipynb\n",
      "C:\\Users\\scimo\\Scipy Mathematical Optimization.ipynb\n",
      "C:\\Users\\scimo\\Searches\n",
      "C:\\Users\\scimo\\SendTo\n",
      "C:\\Users\\scimo\\Start Menu\n",
      "C:\\Users\\scimo\\Sympy.ipynb\n",
      "C:\\Users\\scimo\\Templates\n",
      "C:\\Users\\scimo\\Videos\n"
     ]
    }
   ],
   "source": [
    "# 6. Iteration: Everything in a directory is either a file or a subdirectory. The Path.iterdir() method returns an iterator over Path objects representing each item in the directory:\n",
    "path=pathlib.Path.cwd()\n",
    "for x in path.iterdir():\n",
    "    print(x)"
   ]
  },
  {
   "cell_type": "code",
   "execution_count": 55,
   "id": "d5842617-8061-4147-8aef-cdac888452c5",
   "metadata": {
    "tags": []
   },
   "outputs": [
    {
     "name": "stdout",
     "output_type": "stream",
     "text": [
      "C:\\Users\\scimo\\File Handling.ipynb\n",
      "C:\\Users\\scimo\\Fundamental Python.ipynb\n",
      "C:\\Users\\scimo\\Introductory Pandas.ipynb\n",
      "C:\\Users\\scimo\\Matplotlib Object oriented.ipynb\n",
      "C:\\Users\\scimo\\Numpy.ipynb\n",
      "C:\\Users\\scimo\\Scipy Equations Solving.ipynb\n",
      "C:\\Users\\scimo\\Scipy Interpolation.ipynb\n",
      "C:\\Users\\scimo\\Scipy Mathematical Optimization.ipynb\n",
      "C:\\Users\\scimo\\Sympy.ipynb\n"
     ]
    }
   ],
   "source": [
    "# For iteration of specific types of files we use glob method which takes Wildcard character(*,?,etc.) as placeholder of pattern recogonition (see explanation in attached table):\n",
    "for x in path.glob('*ipynb'):\n",
    "    print(x)"
   ]
  },
  {
   "cell_type": "code",
   "execution_count": 64,
   "id": "516d7c42-56d1-437c-895e-7abf439d32f4",
   "metadata": {
    "tags": []
   },
   "outputs": [
    {
     "data": {
      "text/plain": [
       "[WindowsPath('C:/Users/scimo/Scipy Equations Solving.ipynb'),\n",
       " WindowsPath('C:/Users/scimo/Scipy Interpolation.ipynb'),\n",
       " WindowsPath('C:/Users/scimo/Scipy Mathematical Optimization.ipynb')]"
      ]
     },
     "execution_count": 64,
     "metadata": {},
     "output_type": "execute_result"
    }
   ],
   "source": [
    "#You can convert the return value of .glob() to a list: \n",
    "list(path.glob('*Scipy*'))"
   ]
  },
  {
   "cell_type": "code",
   "execution_count": null,
   "id": "9b55242b-eb89-4c73-af51-2e35cd3f2cf6",
   "metadata": {},
   "outputs": [],
   "source": [
    "#There is also a shorthand method to doing recursive matching called .rglob() which matches target files in path folder as well as its subfolders."
   ]
  },
  {
   "cell_type": "code",
   "execution_count": 71,
   "id": "d348f1fa-7d96-40b7-ab85-03360cffc13f",
   "metadata": {
    "tags": []
   },
   "outputs": [],
   "source": [
    "# 7. File Handling: \n",
    "# Opening File:\n",
    "path = pathlib.Path.home() / \"hello.txt\" \n",
    "path.touch() \n",
    "file = path.open(mode=\"r\")\n",
    "'''Modes:\n",
    "\"r\" for read mode which creates a text file object for reading & raises and error if the file can't be opened.\n",
    "\"w\" for write mode which creates a text file object for writing & owerwrites all existing data in the file.\n",
    "\"a\" for append mode which creates a text file object for appending data to the end of a file.\n",
    "Use file.close() method to close file after working.'''"
   ]
  },
  {
   "cell_type": "code",
   "execution_count": 73,
   "id": "a087c558-a0bd-4b8e-baf0-1dfb471b7f55",
   "metadata": {
    "tags": []
   },
   "outputs": [
    {
     "data": {
      "text/plain": [
       "12"
      ]
     },
     "execution_count": 73,
     "metadata": {},
     "output_type": "execute_result"
    }
   ],
   "source": [
    "# Writing Data:\n",
    "file=path.open(mode='w')\n",
    "file.write('Hello there!')\n",
    "'''When u set mode=\"w\" in .open(), the contents of the original file are overwritten. This results in the loss of all of the original data in the file!"
   ]
  },
  {
   "cell_type": "code",
   "execution_count": 75,
   "id": "7e5e3ce4-afcc-4bcd-9b70-7457e1b9c871",
   "metadata": {
    "tags": []
   },
   "outputs": [
    {
     "data": {
      "text/plain": [
       "6"
      ]
     },
     "execution_count": 75,
     "metadata": {},
     "output_type": "execute_result"
    }
   ],
   "source": [
    "#You can append data to the end of a file by opening the file in append mode:\n",
    "file= path.open(mode=\"a\")\n",
    "file.write(\"\\nHello\")"
   ]
  },
  {
   "cell_type": "code",
   "execution_count": 110,
   "id": "673075e6-146b-4eb9-ab28-e3523f0154e3",
   "metadata": {
    "tags": []
   },
   "outputs": [],
   "source": [
    "#You can write multiple lines to a file at the same time using the .writelines() method.  \n",
    "lines_of_text = [\"Hello from Line 1\\n\",\"Hello from Line 2\\n\",\"Hello from Line 3\\n\"]\n",
    "file=path.open(mode='w')\n",
    "file.writelines(lines_of_text)\n",
    "file.close()"
   ]
  },
  {
   "cell_type": "code",
   "execution_count": 111,
   "id": "6eb98789-be63-4f5b-9797-9b90a5a628d9",
   "metadata": {
    "tags": []
   },
   "outputs": [
    {
     "name": "stdout",
     "output_type": "stream",
     "text": [
      "Hello from Line 1\n",
      "Hello from Line 2\n",
      "Hello from Line 3\n",
      "\n"
     ]
    }
   ],
   "source": [
    "# Reading Data:\n",
    "file= path.open(mode=\"r\")\n",
    "lines=file.read() # Read full file\n",
    "print(lines)"
   ]
  },
  {
   "cell_type": "code",
   "execution_count": 116,
   "id": "879d7cb8-d499-41f1-9d3c-08a07b978db7",
   "metadata": {
    "tags": []
   },
   "outputs": [
    {
     "name": "stdout",
     "output_type": "stream",
     "text": [
      "Hello from Line 1\n",
      "\n",
      "Hello from Line 2\n",
      "\n",
      "Hello from Line 3\n",
      "\n"
     ]
    }
   ],
   "source": [
    "file= path.open(mode=\"r\")\n",
    "for line in file.readlines():\n",
    "    print(line)"
   ]
  },
  {
   "cell_type": "code",
   "execution_count": 123,
   "id": "f46b1057-80bf-447c-a6b9-2789c2a789b5",
   "metadata": {
    "tags": []
   },
   "outputs": [
    {
     "name": "stdout",
     "output_type": "stream",
     "text": [
      "Hello from Line 3\n"
     ]
    }
   ],
   "source": [
    "#To print Specific line:\n",
    "file= path.open(mode=\"r\")\n",
    "for num,line in enumerate(file):\n",
    "    if num == 2:\n",
    "        print(line.strip()) #Use strip() to remove leading/trailing whitespace and newline characters"
   ]
  },
  {
   "cell_type": "code",
   "execution_count": 125,
   "id": "14284316-4a79-4449-91bd-042c1ce5fe38",
   "metadata": {
    "tags": []
   },
   "outputs": [
    {
     "name": "stdout",
     "output_type": "stream",
     "text": [
      "H\n"
     ]
    }
   ],
   "source": [
    "#To print Specific element of line:\n",
    "file= path.open(mode=\"r\")\n",
    "for num,line in enumerate(file):\n",
    "    if num == 2:\n",
    "        print(line[0])\n",
    "file.close()"
   ]
  },
  {
   "cell_type": "code",
   "execution_count": 126,
   "id": "44985372-afec-468c-b86e-efd564f8f223",
   "metadata": {
    "tags": []
   },
   "outputs": [
    {
     "name": "stdout",
     "output_type": "stream",
     "text": [
      "Hello from Line 1\n",
      "Hello from Line 2\n",
      "Hello from Line 3\n",
      "\n"
     ]
    }
   ],
   "source": [
    "#An efficient method of working and closing fie:\n",
    "'''In Python, you can open and manipulate files using the with statement, which ensures that the file is properly closed when you're done with it, even if an exception is raised during file operations. The basic syntax for opening a file with the with statement is as follows:'''\n",
    "with path.open('r') as file:\n",
    "    content = file.read()\n",
    "    print(content)\n",
    "# File is automatically closed when you exit the 'with' block"
   ]
  },
  {
   "cell_type": "code",
   "execution_count": 170,
   "id": "65613e70-8b03-459e-a894-5697eae4efc8",
   "metadata": {
    "tags": []
   },
   "outputs": [],
   "source": [
    "# Handling CSV (Comma-seperated Values) Files by CSV Module:\n",
    "import csv"
   ]
  },
  {
   "cell_type": "code",
   "execution_count": 172,
   "id": "99ab8df7-9fa6-4860-bc3f-51b29f664ca9",
   "metadata": {
    "tags": []
   },
   "outputs": [
    {
     "name": "stdout",
     "output_type": "stream",
     "text": [
      "68,65,68,70,74,72\n"
     ]
    }
   ],
   "source": [
    "#csv.writer\n",
    "temperature_readings = [68, 65, 68, 70, 74, 72]\n",
    "file_path = pathlib.Path.cwd() / \"temperatures.txt\"\n",
    "with file_path.open(mode=\"w\") as file:\n",
    "    writer = csv.writer(file) #csv.writer() return a CSV writer object with methods for writing data to the CSV file\n",
    "    writer.writerow(temperature_readings) #e writer.writerow() method writes a list to a new row in the CSV file\n",
    "#This creates a file called temperatures.csv \n",
    "with file_path.open(mode=\"r\") as file:\n",
    "    text = file.read()\n",
    "print(text.strip())"
   ]
  },
  {
   "cell_type": "code",
   "execution_count": 208,
   "id": "b4ce8646-fae5-463d-8d7e-7c6f620eacbc",
   "metadata": {
    "tags": []
   },
   "outputs": [
    {
     "name": "stdout",
     "output_type": "stream",
     "text": [
      "68,65,68,70,74,72\n",
      "67,67,70,72,72,70\n",
      "68,70,74,76,74,73\n"
     ]
    }
   ],
   "source": [
    "daily_temperatures = [[68, 65, 68, 70, 74, 72],[67, 67, 70, 72, 72, 70],[68, 70, 74, 76, 74, 73]]\n",
    "file_path = pathlib.Path.cwd() / \"dailytemperatures.csv\"\n",
    "# Write data to the CSV file with consistent line endings\n",
    "with file_path.open(mode=\"w\", newline='') as file: \n",
    "# newline='' is ued in open() function when writing to the CSV file. This ensures that the correct line endings are used regardless of the operating system, which should prevent extra empty lines when reading the file back in.\n",
    "    writer = csv.writer(file)\n",
    "    writer.writerows(daily_temperatures)\n",
    "# Read and print the content of the CSV file\n",
    "with file_path.open(mode=\"r\") as file:\n",
    "    text = file.read()\n",
    "print(text.strip())"
   ]
  },
  {
   "cell_type": "code",
   "execution_count": 209,
   "id": "945a95a0-5cfb-4dbe-b9c3-9b96aae5595c",
   "metadata": {
    "tags": []
   },
   "outputs": [
    {
     "data": {
      "text/plain": [
       "['68,65,68,70,74,72', '67,67,70,72,72,70', '68,70,74,76,74,73']"
      ]
     },
     "execution_count": 209,
     "metadata": {},
     "output_type": "execute_result"
    }
   ],
   "source": [
    "#CSV files are a great way to store records of sequential data because you can recover each row of the CSV value as a list:\n",
    "text.split()"
   ]
  },
  {
   "cell_type": "code",
   "execution_count": 210,
   "id": "8428b332-d0bc-4dc4-a86b-1c5bd27aae55",
   "metadata": {
    "tags": []
   },
   "outputs": [
    {
     "name": "stdout",
     "output_type": "stream",
     "text": [
      "['68', '65', '68', '70', '74', '72']\n",
      "['67', '67', '70', '72', '72', '70']\n",
      "['68', '70', '74', '76', '74', '73']\n"
     ]
    }
   ],
   "source": [
    "#csv reader\n",
    "with file_path.open(mode=\"r\") as file:\n",
    "    reader = csv.reader(file)\n",
    "    for row in reader:\n",
    "        print (row)"
   ]
  },
  {
   "cell_type": "code",
   "execution_count": 211,
   "id": "8c541569-2d72-498b-8705-3fd12b070cfa",
   "metadata": {
    "tags": []
   },
   "outputs": [
    {
     "name": "stdout",
     "output_type": "stream",
     "text": [
      "['t1', 't2', 't3', 't4', 't5', 't6']\n",
      "['68', '65', '68', '70', '74', '72']\n",
      "['67', '67', '70', '72', '72', '70']\n",
      "['68', '70', '74', '76', '74', '73']\n"
     ]
    }
   ],
   "source": [
    "#Reading and Writing CSV Files With Headers (Attributes in first row):\n",
    "header=['t1','t2','t3','t4','t5','t6']\n",
    "with file_path.open(mode=\"r\") as file:\n",
    "    reader = csv.reader(file)\n",
    "    rows = list(reader)\n",
    "    rows.insert(0, header)  # Insert the header at index 0 (beginning)\n",
    "with file_path.open(mode=\"w\",newline='') as file: \n",
    "    writer = csv.writer(file)\n",
    "    writer.writerows(rows) # Write the updated content back to the file\n",
    "#Let's read updated file:\n",
    "with file_path.open(mode=\"r\") as file:\n",
    "    reader = csv.reader(file)\n",
    "    for row in reader:\n",
    "        print (row)"
   ]
  },
  {
   "cell_type": "code",
   "execution_count": 236,
   "id": "d3b49d7e-8418-4a70-9992-9b2683d43440",
   "metadata": {
    "tags": []
   },
   "outputs": [
    {
     "name": "stdout",
     "output_type": "stream",
     "text": [
      "{'t1': '68', 't2': '65', 't3': '68', 't4': '70', 't5': '74', 't6': '72'}\n",
      "{'t1': '67', 't2': '67', 't3': '70', 't4': '72', 't5': '72', 't6': '70'}\n",
      "{'t1': '68', 't2': '70', 't3': '74', 't4': '76', 't5': '74', 't6': '73'}\n",
      "['t1', 't2', 't3', 't4', 't5', 't6']\n"
     ]
    }
   ],
   "source": [
    "#Reading row elements as dictionary based on header:\n",
    "with file_path.open(mode=\"r\") as file:\n",
    "    reader = csv.DictReader(file) #When you create a DictReader object, the first row of the CSV file is assumed to contain the field names. These values get stored in a list and assigned to the DictReader instance’s .fieldnames attribute:\n",
    "    header=reader.fieldnames\n",
    "    for row in reader: \n",
    "        print(row)\n",
    "print(header)"
   ]
  },
  {
   "cell_type": "code",
   "execution_count": 244,
   "id": "32ee532b-e75b-4488-b5ae-f10407457508",
   "metadata": {
    "tags": []
   },
   "outputs": [
    {
     "name": "stdout",
     "output_type": "stream",
     "text": [
      "['Veronica', '29']\n",
      "['Audrey', '32']\n",
      "['Sam', '24']\n"
     ]
    }
   ],
   "source": [
    "#Converting List of Dictionaries to CSV:\n",
    "people = [{\"name\": \"Veronica\", \"age\": 29}, {\"name\": \"Audrey\", \"age\": 32},{\"name\": \"Sam\", \"age\": 24}]\n",
    "file_path = pathlib.Path.cwd() / \"people.csv\"\n",
    "with file_path.open(mode=\"w\", newline='') as file:\n",
    "    writer = csv.DictWriter(file, fieldnames=[\"name\", \"age\"])\n",
    "    writer.writerows(people)\n",
    "with file_path.open(mode=\"r\", newline='') as file:\n",
    "    reader=csv.reader(file)\n",
    "    for rows in reader:\n",
    "        print(rows)"
   ]
  }
 ],
 "metadata": {
  "kernelspec": {
   "display_name": "Python 3 (ipykernel)",
   "language": "python",
   "name": "python3"
  },
  "language_info": {
   "codemirror_mode": {
    "name": "ipython",
    "version": 3
   },
   "file_extension": ".py",
   "mimetype": "text/x-python",
   "name": "python",
   "nbconvert_exporter": "python",
   "pygments_lexer": "ipython3",
   "version": "3.11.5"
  }
 },
 "nbformat": 4,
 "nbformat_minor": 5
}
