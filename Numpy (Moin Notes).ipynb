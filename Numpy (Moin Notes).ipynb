{
 "cells": [
  {
   "cell_type": "code",
   "execution_count": 4,
   "id": "2c5b7c9f-24f7-4ca7-b881-3175d861e5a7",
   "metadata": {
    "tags": []
   },
   "outputs": [],
   "source": [
    "'''An array that has n-D arrays as its elements is called a (n+1)-D array. \n",
    "We can use .ndim attribute to check the dimension of an array.'''\n",
    "from numpy import *"
   ]
  },
  {
   "cell_type": "code",
   "execution_count": 11,
   "id": "1a3c9b48-3d1c-495f-a757-f92babff09ca",
   "metadata": {
    "tags": []
   },
   "outputs": [
    {
     "name": "stdout",
     "output_type": "stream",
     "text": [
      "scalar=42\n",
      " matrix=[[1 2 3]\n",
      " [4 5 6]]\n",
      " array_3d=[[[1 2]\n",
      "  [3 4]]\n",
      "\n",
      " [[5 6]\n",
      "  [7 8]]]\n",
      " array_4d=[[[[ 1  2]\n",
      "   [ 3  4]]\n",
      "\n",
      "  [[ 5  6]\n",
      "   [ 7  8]]\n",
      "\n",
      "  [[ 9 10]\n",
      "   [11 12]]]\n",
      "\n",
      "\n",
      " [[[13 14]\n",
      "   [15 16]]\n",
      "\n",
      "  [[17 18]\n",
      "   [19 20]]\n",
      "\n",
      "  [[21 22]\n",
      "   [23 24]]]]\n"
     ]
    }
   ],
   "source": [
    "'''Types of Array:\n",
    "0D Array (Scalar):\n",
    "   - Represents a single value.\n",
    "   - Zero dimensions.\n",
    "   - Created using `numpy.array()` with no sequence-like input.\n",
    "1D Array (Vector):\n",
    "   - Represents a sequence of values along a single dimension.\n",
    "   - One dimension.\n",
    "   - Created using `numpy.array()` with a list or array-like input.\n",
    "2D Array (Matrix):\n",
    "   - Represents a table of values with rows and columns.\n",
    "   - Two dimensions.\n",
    "   - Created using `numpy.array()` with a list of lists or 2D array-like input.\n",
    "3D Array:\n",
    "   - Represents data organized in a three-dimensional cube or volume.\n",
    "   - Three dimensions.\n",
    "   - Created using `numpy.array()` with a nested list structure or 3D array-like input.\n",
    "Higher-Dimensional Arrays:\n",
    "   - Represents data in more than three dimensions.\n",
    "   - Used for complex data structures like volumetric data, 4D spacetime simulations, or multidimensional arrays.\n",
    "   - Created using `numpy.array()` with nested structures corresponding to the desired dimensions.'''\n",
    "scalar = array(42)  # This is a 0D array (scalar).\n",
    "matrix = array([[1, 2, 3], [4, 5, 6]])  # This is a 2D array (matrix).\n",
    "array_3d = array([[[1, 2], [3, 4]], [[5, 6], [7, 8]]])  # This is a 3D array.\n",
    "array_4d = array([[[[1, 2], [3, 4]], [[5, 6], [7, 8]], [[9, 10], [11, 12]]], [[[13, 14], [15, 16]], [[17, 18], [19, 20]], [[21, 22], [23, 24]]]])\n",
    "print(f'scalar={scalar}\\n matrix={matrix}\\n array_3d={array_3d}\\n array_4d={array_4d}')"
   ]
  },
  {
   "cell_type": "code",
   "execution_count": 12,
   "id": "3234b537-6c52-4cf9-9329-7c03e4536179",
   "metadata": {
    "tags": []
   },
   "outputs": [
    {
     "data": {
      "text/plain": [
       "4"
      ]
     },
     "execution_count": 12,
     "metadata": {},
     "output_type": "execute_result"
    }
   ],
   "source": [
    "array_4d.ndim"
   ]
  },
  {
   "cell_type": "code",
   "execution_count": 13,
   "id": "92495f59-1555-4d9f-bf31-f6f0dbd07238",
   "metadata": {
    "tags": []
   },
   "outputs": [
    {
     "name": "stdout",
     "output_type": "stream",
     "text": [
      "[[[[[1 2 3 4]]]]]\n",
      "number of dimensions : 5\n"
     ]
    }
   ],
   "source": [
    "#When the array is created, you can define the number of dimensions by using the ndmin argument.\n",
    "arr = array([1, 2, 3, 4], ndmin=5)\n",
    "print(arr)\n",
    "print('number of dimensions :', arr.ndim)"
   ]
  },
  {
   "cell_type": "code",
   "execution_count": 16,
   "id": "3a4149a7-c529-475d-99e5-f03a192c7a96",
   "metadata": {
    "tags": []
   },
   "outputs": [
    {
     "name": "stdout",
     "output_type": "stream",
     "text": [
      "[[0 0 0]\n",
      " [0 0 0]\n",
      " [0 0 0]]\n",
      "[[1 0 0]\n",
      " [0 2 0]\n",
      " [0 0 3]]\n"
     ]
    }
   ],
   "source": [
    "# Create a 3x3 array filled with zeros\n",
    "zeros_array = zeros((3, 3), dtype=int)\n",
    "print(zeros_array)\n",
    "# Create a 3x3 diagonal array with values 1, 2, and 3 on the diagonal\n",
    "diag_array = diag([1, 2, 3])\n",
    "print(diag_array)"
   ]
  },
  {
   "cell_type": "code",
   "execution_count": 17,
   "id": "7078b248-6dd6-4ca3-baf0-54d07bec1a67",
   "metadata": {
    "tags": []
   },
   "outputs": [
    {
     "name": "stdout",
     "output_type": "stream",
     "text": [
      "[0 2 4 6 8]\n",
      "[0.   0.25 0.5  0.75 1.  ]\n"
     ]
    }
   ],
   "source": [
    "# Create an array with values from 0 to 9 with a step of 2\n",
    "arange_array = arange(0, 10, 2)\n",
    "print(arange_array)\n",
    "# Create an array with 5 evenly spaced values between 0 and 1\n",
    "linspace_array = linspace(0, 1, 5)\n",
    "print(linspace_array)\n",
    "#For further such functions for generating arrays see attached Table 2.3"
   ]
  },
  {
   "cell_type": "code",
   "execution_count": 19,
   "id": "c0de5c70-1aff-46b4-9bb5-dd1b7b4d221d",
   "metadata": {
    "tags": []
   },
   "outputs": [
    {
     "name": "stdout",
     "output_type": "stream",
     "text": [
      "6\n"
     ]
    }
   ],
   "source": [
    "#Array Indexing & Slicing: \n",
    "#Random Example: Access the third element of the second array of the first array:\n",
    "arr = array([[[1, 2, 3], [4, 5, 6]], [[7, 8, 9], [10, 11, 12]]])\n",
    "print(arr[0, 1, 2])"
   ]
  },
  {
   "cell_type": "code",
   "execution_count": null,
   "id": "e7ad550f-77dd-4214-9a1e-4c49d9c43f4a",
   "metadata": {
    "tags": []
   },
   "outputs": [],
   "source": [
    "'''Slicing in NumPy is a powerful technique for extracting and manipulating specific portions of a NumPy array. \n",
    "It allows you to create subarrays or views of the original array by specifying a range of indices or slices along \n",
    "one or more dimensions. Slicing is an essential tool for data manipulation and extraction in NumPy. Note that it \n",
    "creates view not copy of orginal array so chaning slice will change original array. Here's an overview of how slicing works in NumPy:'''"
   ]
  },
  {
   "cell_type": "code",
   "execution_count": 26,
   "id": "12d9a8ce-2b4c-4354-80da-e08cf15d5d2f",
   "metadata": {
    "tags": []
   },
   "outputs": [
    {
     "name": "stdout",
     "output_type": "stream",
     "text": [
      "[1 2 3]\n"
     ]
    }
   ],
   "source": [
    "#Basic Slicing:\n",
    "'''You can use the colon (`:`) operator to specify a range of indices along a single dimension.\n",
    "   - Syntax: `array[start:stop]` or `array[start:stop:step]`\n",
    "   - `start` is the index where the slice starts (inclusive).\n",
    "   - `stop` is the index where the slice ends (exclusive).\n",
    "   - `step` is the step size between elements (default is 1).'''\n",
    "arr = array([0, 1, 2, 3, 4, 5])\n",
    "sliced_arr = arr[1:4]  # Extract elements at indices 1, 2, and 3.\n",
    "print(sliced_arr)"
   ]
  },
  {
   "cell_type": "code",
   "execution_count": 27,
   "id": "fd63e310-0d5b-44e0-b165-3b37744c3755",
   "metadata": {
    "tags": []
   },
   "outputs": [
    {
     "name": "stdout",
     "output_type": "stream",
     "text": [
      "[[2 3]\n",
      " [5 6]]\n"
     ]
    }
   ],
   "source": [
    "#Multi-Dimensional Slicing:\n",
    "'''- You can slice along multiple dimensions by separating slices with commas.\n",
    "   - Syntax: `array[start_row:stop_row, start_col:stop_col]`'''\n",
    "matrix = array([[1, 2, 3], [4, 5, 6], [7, 8, 9]])\n",
    "sliced_matrix = matrix[0:2, 1:3]  # Extract a submatrix.\n",
    "print(sliced_matrix)"
   ]
  },
  {
   "cell_type": "code",
   "execution_count": 29,
   "id": "8342ea68-4112-49ed-9fd4-178d8c17f21b",
   "metadata": {
    "tags": []
   },
   "outputs": [
    {
     "name": "stdout",
     "output_type": "stream",
     "text": [
      "[1 3]\n"
     ]
    }
   ],
   "source": [
    "#Slicing with Steps:\n",
    "''' - You can specify a step size to skip elements while slicing.\n",
    "   - Syntax: `array[start:stop:step]`'''\n",
    "arr = array([0, 1, 2, 3, 4, 5])\n",
    "sliced_arr = arr[1:5:2]  # Extract elements at indices 1 and 3 with a step of 2.\n",
    "print(sliced_arr)"
   ]
  },
  {
   "cell_type": "code",
   "execution_count": 30,
   "id": "ebca4c17-6db7-4f1c-b987-76b5e21c7b6d",
   "metadata": {
    "tags": []
   },
   "outputs": [
    {
     "name": "stdout",
     "output_type": "stream",
     "text": [
      "[[2 4]\n",
      " [6 8]]\n"
     ]
    }
   ],
   "source": [
    "#Slicing with Ellipsis (`...`):\n",
    "'''- You can use the ellipsis (`...`) to slice along multiple dimensions without explicitly specifying all slice ranges.'''\n",
    "arr = array([[[1, 2], [3, 4]], [[5, 6], [7, 8]]])\n",
    "sliced_arr = arr[..., 1]  # Extract the second column along the last dimension.\n",
    "print(sliced_arr)"
   ]
  },
  {
   "cell_type": "code",
   "execution_count": 31,
   "id": "07564cb8-e5b7-4b71-b1b6-3592b05e9059",
   "metadata": {
    "tags": []
   },
   "outputs": [
    {
     "name": "stdout",
     "output_type": "stream",
     "text": [
      "[3 4 5]\n"
     ]
    }
   ],
   "source": [
    "#Boolean Indexing:\n",
    "'''- You can use boolean arrays to create conditional slices based on a condition.'''\n",
    "arr = array([1, 2, 3, 4, 5])\n",
    "mask = arr > 2\n",
    "sliced_arr = arr[mask]  # Extract elements greater than 2.\n",
    "print(sliced_arr)"
   ]
  },
  {
   "cell_type": "code",
   "execution_count": null,
   "id": "c54fb662-1d27-405a-b982-18398e8ca6de",
   "metadata": {},
   "outputs": [],
   "source": [
    "#For Visual Summary of indexing methods in NumPy see attached Fig. 2.1"
   ]
  },
  {
   "cell_type": "code",
   "execution_count": 36,
   "id": "90ad118d-4fac-4e75-b72f-323576edc140",
   "metadata": {
    "tags": []
   },
   "outputs": [
    {
     "name": "stdout",
     "output_type": "stream",
     "text": [
      "['1' '2' '3' '4']\n"
     ]
    },
    {
     "data": {
      "text/plain": [
       "dtype('<U1')"
      ]
     },
     "execution_count": 36,
     "metadata": {},
     "output_type": "execute_result"
    }
   ],
   "source": [
    "#Data Types:\n",
    "'''The NumPy array object has an attribute called .dtype that returns the data type of the array. \n",
    "We use the array() function to create arrays, this function can take an optional argument: dtype that \n",
    "allows us to define the expected data type of the array elements:'''\n",
    "arr = array([1, 2, 3, 4], dtype='str')\n",
    "print(arr)\n",
    "arr.dtype"
   ]
  },
  {
   "cell_type": "code",
   "execution_count": 43,
   "id": "a071d53b-e8ce-43ca-a745-e6c2fa7f3045",
   "metadata": {
    "tags": []
   },
   "outputs": [
    {
     "name": "stdout",
     "output_type": "stream",
     "text": [
      "None\n",
      "[1 2 3 4]\n"
     ]
    }
   ],
   "source": [
    "'''copy() method creates a deep copy of an array, ensuring that changes to one array do not affect the other. \n",
    "In contrast, the view() method creates a shallow copy, where both arrays share the same data but may have different metadata.\n",
    "The `.base` attribute in NumPy helps determine if an array is a view or a copy of another array. \n",
    "If an array is a view, its `.base` attribute points to the original array, indicating shared data. \n",
    "If it's a copy, `.base` is `None`, signifying independent data. This distinction is crucial for understanding \n",
    "data relationships and avoiding unintended modifications in NumPy arrays. In summary, attributes (i.e .base) are \n",
    "specific to individual objects and store their state, methods (i.e .copy()) are behaviors associated with objects of a class, \n",
    "and built-in functions (i.e. array()) are general-purpose functions provided by Python's standard library that can be applied \n",
    "to various data types and objects.'''\n",
    "arr = array([1, 2, 3, 4])\n",
    "copyarr=arr.copy()\n",
    "print(copyarr.base)\n",
    "print(copyarr)"
   ]
  },
  {
   "cell_type": "code",
   "execution_count": 45,
   "id": "e44e2d1b-e880-4522-b8a4-760dc37ad5f5",
   "metadata": {
    "tags": []
   },
   "outputs": [
    {
     "name": "stdout",
     "output_type": "stream",
     "text": [
      "None\n",
      "['1' '2' '3' '4']\n"
     ]
    }
   ],
   "source": [
    "#Changing data type of an array\n",
    "arr = array([1, 2, 3, 4], dtype='str')\n",
    "arrstr=arr.astype('str')\n",
    "print(arrstr.base)\n",
    "print(arrstr)"
   ]
  },
  {
   "cell_type": "code",
   "execution_count": 5,
   "id": "33157856-48a8-4041-9d59-781af2126768",
   "metadata": {},
   "outputs": [
    {
     "name": "stdout",
     "output_type": "stream",
     "text": [
      "(array([0, 0, 1, 1], dtype=int64), array([0, 2, 1, 2], dtype=int64), array([2, 3, 3, 3], dtype=int64))\n"
     ]
    }
   ],
   "source": [
    "#Find\n",
    "'''You can search an array for a certain value, and return the indexes that get a match. \n",
    "To search an array, use the where() function.'''\n",
    "x=array([[[1,2,3,4],[4,5,6,8],[5,5,9,3]],[[1,2,4,6],[5,4,6,3],[4,5,9,3]]])\n",
    "y=where(x==3)\n",
    "print(y)"
   ]
  },
  {
   "cell_type": "code",
   "execution_count": 6,
   "id": "79297b50-21fe-4dcd-a442-c2839037ea5c",
   "metadata": {
    "tags": []
   },
   "outputs": [
    {
     "name": "stdout",
     "output_type": "stream",
     "text": [
      "[[2 3 4]\n",
      " [0 1 5]]\n"
     ]
    }
   ],
   "source": [
    "#Sort:\n",
    "'''The NumPy ndarray object has a function called sort(), that will sort a Specified array. \n",
    "This method returns a copy of the array, leaving the original array unchanged.'''\n",
    "arr = array([[3, 2, 4], [5, 0, 1]])\n",
    "print(sort(arr))"
   ]
  },
  {
   "cell_type": "code",
   "execution_count": 10,
   "id": "9c255ce8-0dc1-4092-800b-f26d012f853f",
   "metadata": {
    "tags": []
   },
   "outputs": [
    {
     "name": "stdout",
     "output_type": "stream",
     "text": [
      "[1 2 3]\n"
     ]
    }
   ],
   "source": [
    "#SearchSort:\n",
    "'''There is a method called searchsorted() which performs a binary search in the array, and returns the index where the \n",
    "specified value would be inserted to maintain the search order. The searchsorted() method is assumed to be used on sorted arrays.\n",
    "##Find the indexes where the values 2, 4, and 6 should be inserted:'''\n",
    "arr = array([1, 3, 5, 7])\n",
    "x = searchsorted(arr, [2, 4, 6], side='right')\n",
    "print(x)"
   ]
  },
  {
   "cell_type": "code",
   "execution_count": 11,
   "id": "36e2ad68-7b8d-455c-a6c5-b2cbb82ebc07",
   "metadata": {
    "tags": []
   },
   "outputs": [
    {
     "name": "stdout",
     "output_type": "stream",
     "text": [
      "[False  True False  True False  True False]\n",
      "[2 4 6]\n"
     ]
    }
   ],
   "source": [
    "#Filtering Arrays: \n",
    "'''Getting some elements out of an existing array and creating a new array out of them is called filtering. \n",
    "In NumPy, you filter an array using a boolean index list.A boolean index list is a list of booleans corresponding \n",
    "to indexes in the array. If the value at an index is True that element is contained in the filtered array, \n",
    "if the value at that index is False that element is excluded from the filtered array.'''\n",
    "arr = array([1, 2, 3, 4, 5, 6, 7])\n",
    "filter_arr = arr % 2 == 0\n",
    "newarr = arr[filter_arr]\n",
    "print(filter_arr)\n",
    "print(newarr)"
   ]
  },
  {
   "cell_type": "code",
   "execution_count": 12,
   "id": "b648be36-78ab-45a9-8fef-967dd5b2bd91",
   "metadata": {
    "tags": []
   },
   "outputs": [
    {
     "name": "stdout",
     "output_type": "stream",
     "text": [
      "(3, 2, 4)\n",
      "3\n"
     ]
    }
   ],
   "source": [
    "#Shape:\n",
    "'''The shape of an array is the number of elements in each dimension. NumPy arrays have an attribute called .shape \n",
    "that returns a tuple with each index having the number of corresponding elements.'''\n",
    "arr=array([[[1,2,3,5],[1,2,3,6]],[[3,4,5,3],[3,4,5,5]],[[8,5,2,9],[8,5,2,5]]])\n",
    "print(arr.shape)\n",
    "print(arr.ndim)"
   ]
  },
  {
   "cell_type": "code",
   "execution_count": 13,
   "id": "c5bace05-0993-4f02-9a49-7ff28d16c719",
   "metadata": {
    "tags": []
   },
   "outputs": [
    {
     "name": "stdout",
     "output_type": "stream",
     "text": [
      "(3, 2, 4)\n",
      "3\n",
      "[[[1 2 3]\n",
      "  [5 1 2]]\n",
      "\n",
      " [[3 6 3]\n",
      "  [4 5 3]]\n",
      "\n",
      " [[3 4 5]\n",
      "  [5 8 5]]\n",
      "\n",
      " [[2 9 8]\n",
      "  [5 2 5]]]\n",
      "(4, 2, 3)\n",
      "3\n"
     ]
    }
   ],
   "source": [
    "#Reshaping: \n",
    "'''It means changing the shape of an array. We can reshape arrays in NumPy using the reshape() method:'''\n",
    "arr=array([[[1,2,3,5],[1,2,3,6]],[[3,4,5,3],[3,4,5,5]],[[8,5,2,9],[8,5,2,5]]])\n",
    "print(arr.shape)\n",
    "print(arr.ndim)\n",
    "arr2=arr.reshape(4,2,3)\n",
    "print(arr2)\n",
    "print(arr2.shape)\n",
    "print(arr2.ndim)\n"
   ]
  },
  {
   "cell_type": "code",
   "execution_count": 18,
   "id": "1e44ce30-4da2-417c-b759-de0c0dcfa14b",
   "metadata": {
    "tags": []
   },
   "outputs": [
    {
     "name": "stdout",
     "output_type": "stream",
     "text": [
      "[[[1 2 3]\n",
      "  [5 1 2]]\n",
      "\n",
      " [[3 6 3]\n",
      "  [4 5 3]]\n",
      "\n",
      " [[3 4 5]\n",
      "  [5 8 5]]\n",
      "\n",
      " [[2 9 8]\n",
      "  [5 2 5]]]\n"
     ]
    }
   ],
   "source": [
    "'''There are rules and restrictions regarding reshaping arrays in NumPy. These rules are important to ensure that \n",
    "the reshaping operation is valid and that the total number of elements in the original and reshaped arrays match. \n",
    "Here are some key rules and considerations:\n",
    "-Total Number of Elements: The total number of elements in the original array must be the same as the total number \n",
    "of elements in the reshaped array. In other words, the product of the dimensions of the original array must equal \n",
    "the product of the dimensions of the reshaped array. For example, a 1D array with 12 elements can be reshaped into a \n",
    "3x4 matrix because 12 = 3 x 4, but it cannot be reshaped into a 2x3 matrix because 12 ≠ 2 x 3.\n",
    "\n",
    "-Compatible Shapes: The dimensions of the original array and the desired reshaped array must be compatible. \n",
    "For example, you can reshape a 1D array into a 2D array, but you cannot reshape a 1D array into a 3D array \n",
    "unless the total number of elements allows for it.\n",
    "- -1 Placeholder: You can use the -1 placeholder in one of the dimensions when reshaping, and NumPy will automatically \n",
    "calculate the size for that dimension based on the total number of elements and the other dimensions. This can be handy \n",
    "when you want NumPy to infer a dimension for you.\n",
    "\n",
    "Note that .reshape() creates a new array with the desired shape without modifying the original, while .resize() \n",
    "modifies the shape of the original array in-place and can add or remove elements as needed. The choice between \n",
    "these methods depends on whether you want to preserve the original array or make permanent changes to it. i.e.'''\n",
    "\n",
    "arr=array([[[1,2,3,5],[1,2,3,6]],[[3,4,5,3],[3,4,5,5]],[[8,5,2,9],[8,5,2,5]]])\n",
    "arr.resize(4,2,3)\n",
    "print(arr)"
   ]
  },
  {
   "cell_type": "code",
   "execution_count": 19,
   "id": "09b31bf8-16d2-4cfa-ba47-6881102a95f8",
   "metadata": {
    "tags": []
   },
   "outputs": [
    {
     "name": "stdout",
     "output_type": "stream",
     "text": [
      "[1 2 3 5 1 2 3 6 3 4 5 3 3 4 5 5 8 5 2 9 8 5 2 5]\n"
     ]
    }
   ],
   "source": [
    "#Flattening array: \n",
    "'''It means converting a multidimensional array into a 1D array. We can use reshape(-1) to do this.'''\n",
    "arr=array([[[1,2,3,5],[1,2,3,6]],[[3,4,5,3],[3,4,5,5]],[[8,5,2,9],[8,5,2,5]]])\n",
    "arr2=arr.reshape(-1)\n",
    "print(arr2)"
   ]
  },
  {
   "cell_type": "code",
   "execution_count": 20,
   "id": "be8a400d-babc-44b4-9be0-1e29f38a0966",
   "metadata": {
    "tags": []
   },
   "outputs": [
    {
     "name": "stdout",
     "output_type": "stream",
     "text": [
      "[[1 2 3]\n",
      " [4 5 6]]\n",
      "[[ 7  8  9]\n",
      " [10 11 12]]\n"
     ]
    }
   ],
   "source": [
    "#Iteration:\n",
    "arr = array([[[1, 2, 3], [4, 5, 6]], [[7, 8, 9], [10, 11, 12]]])\n",
    "for x in arr:\n",
    "    print(x)"
   ]
  },
  {
   "cell_type": "code",
   "execution_count": 21,
   "id": "301f0762-84d4-4863-b7e2-6122b59ddc3b",
   "metadata": {
    "tags": []
   },
   "outputs": [
    {
     "name": "stdout",
     "output_type": "stream",
     "text": [
      "1\n",
      "2\n",
      "3\n",
      "4\n",
      "5\n",
      "6\n",
      "7\n",
      "8\n",
      "9\n",
      "10\n",
      "11\n",
      "12\n"
     ]
    }
   ],
   "source": [
    "'''To Iterate Down to scalars we can use:'''\n",
    "arr = array([[[1, 2, 3], [4, 5, 6]], [[7, 8, 9], [10, 11, 12]]])\n",
    "for x in arr:\n",
    "  for y in x:\n",
    "    for z in y:\n",
    "      print(z)"
   ]
  },
  {
   "cell_type": "code",
   "execution_count": 23,
   "id": "4c07c3c9-c393-4a08-8be5-427aa5a4a6db",
   "metadata": {
    "tags": []
   },
   "outputs": [
    {
     "name": "stdout",
     "output_type": "stream",
     "text": [
      "1\n",
      "2\n",
      "3\n",
      "4\n",
      "5\n",
      "6\n",
      "7\n",
      "8\n",
      "9\n",
      "10\n",
      "11\n",
      "12\n"
     ]
    }
   ],
   "source": [
    "#or shortly we can use:\n",
    "for x in nditer(arr):\n",
    "  print(x)"
   ]
  },
  {
   "cell_type": "code",
   "execution_count": 25,
   "id": "b3f9f8fc-5ffc-4465-bfc2-cac96a1ed70c",
   "metadata": {
    "tags": []
   },
   "outputs": [
    {
     "name": "stdout",
     "output_type": "stream",
     "text": [
      "1\n",
      "2\n",
      "3\n",
      "7\n",
      "8\n",
      "9\n"
     ]
    }
   ],
   "source": [
    "#To Iterate specific element:\n",
    "for x in nditer(arr[:, ::2]):\n",
    "  print(x)"
   ]
  },
  {
   "cell_type": "code",
   "execution_count": 45,
   "id": "f3b2c370-b838-48e6-9e03-183abfb441b3",
   "metadata": {
    "tags": []
   },
   "outputs": [
    {
     "name": "stdout",
     "output_type": "stream",
     "text": [
      "[  5 -30]\n"
     ]
    }
   ],
   "source": [
    "'''A discrete difference means subtracting two successive elements.\n",
    "E.g. for [1, 2, 3, 4], the discrete difference would be [2-1, 3-2, 4-3] = [1, 1, 1]\n",
    "To find the discrete difference, use the diff() function. We can perform this operation repeatedly by giving parameter n.'''\n",
    "arr = array([10, 15, 25, 5])\n",
    "newarr = diff(arr, n=2)\n",
    "print(newarr)"
   ]
  },
  {
   "cell_type": "code",
   "execution_count": null,
   "id": "12c7be89-b5d6-4e39-8b54-df446ea555ca",
   "metadata": {},
   "outputs": [],
   "source": [
    "'''Some Important Points:\n",
    "-For Matrices Multiplication use @ instead of *. All other Arithmetic operations are element wise and simple. \n",
    "-Also x=np.add(a1,a2)=a1+a2. \n",
    "-The np.divmod(arr1,arr2) function return both the quotient and the mod. The return value is two arrays, \n",
    "the first array contains the quotient and the second array contains the mod.\n",
    "-To find LCM of Two numbers x and y we use Lcm=np.lcm(x,y), while for elements of an array arr we use LCM=np.lcm.reduce(arr) function. \n",
    "The reduce() method will use the ufunc(universal), in this case the lcm() function, on each element, and reduce the array by one dimension. \n",
    "Same for gcd just replace lcm by gcd keyword.\n",
    "-To find the sin of a number we use SIN=np.sin(np.pi/2) >>>1.0, we can apply the same to array arr as Sin=np.sin(arr). Same for cos, tan, \n",
    "arcsin, arccos,arctan,sinh,cosh,tanh. TO convert degree to rad we use x = np.deg2rad(arr). Note: we used np with pi because pi is a maths \n",
    "or numpy object.\n",
    "-To find the unique values of two arrays a1,a2, use the np.union1d(a1,a2) method, To find only the values that are present in both arrays, \n",
    "use the np.intersect1d(a1,a2) method, To find only the values in the first set that is NOT present in the seconds set, use the \n",
    "np.setdiff1d(a1,a2) method and To find only the values that are NOT present in BOTH sets (Symmetric Difference), use \n",
    "the np.setxor1d(a1,a2) method. Note all these are applicable for 1D only.\n",
    "For summary of all other functions see Table 2.6,7,8,12,13,5'''"
   ]
  },
  {
   "cell_type": "code",
   "execution_count": 27,
   "id": "93fe642c-0d87-4646-b8bf-c25b7975d84b",
   "metadata": {
    "tags": []
   },
   "outputs": [
    {
     "name": "stdout",
     "output_type": "stream",
     "text": [
      "x=[[1 2 3 4]\n",
      " [3 5 6 7]\n",
      " [4 5 7 9]]\n",
      " \n",
      " y=[[1 1 1]\n",
      " [1 1 1]\n",
      " [1 1 1]] \n",
      " z=[array([[1, 2, 3, 4],\n",
      "       [3, 5, 6, 7],\n",
      "       [4, 5, 7, 9]]), array([[1, 1, 1],\n",
      "       [1, 1, 1],\n",
      "       [1, 1, 1]])]\n"
     ]
    }
   ],
   "source": [
    "#Concatenation:\n",
    "#Note this:\n",
    "x=array([[1,2,3,4],[3,5,6,7],[4,5,7,9]])\n",
    "y=ones((3,3),dtype='int')\n",
    "z=[x,y]\n",
    "print(f'x={x}\\n \\n y={y} \\n z={z}')"
   ]
  },
  {
   "cell_type": "code",
   "execution_count": 35,
   "id": "4af69c3a-7058-4a0f-875e-0827e78b360e",
   "metadata": {
    "tags": []
   },
   "outputs": [
    {
     "name": "stdout",
     "output_type": "stream",
     "text": [
      "x=[[1 2 3 4]\n",
      " [3 5 6 7]\n",
      " [4 5 7 9]]\n",
      "\n",
      "y=[[1 1 1 1]\n",
      " [1 1 1 1]\n",
      " [1 1 1 1]\n",
      " [1 1 1 1]]\n",
      "\n",
      "Concatenated Array:\n",
      "[[1 2 3 4]\n",
      " [3 5 6 7]\n",
      " [4 5 7 9]\n",
      " [1 1 1 1]\n",
      " [1 1 1 1]\n",
      " [1 1 1 1]\n",
      " [1 1 1 1]]\n"
     ]
    }
   ],
   "source": [
    "'''Hence  [x,y] simply  joins two arrays and is equivalent to np.concatenate([arr1,arr2], axis=0) is equivalent to \n",
    "np.vstack(arr1,arr2) and it Stacks a list of arrays vertically (along axis 0): for example, given a list of row vectors, \n",
    "appends the rows to form a matrix. i.e'''\n",
    "from numpy import array, ones, concatenate\n",
    "\n",
    "# Create arrays x and y\n",
    "x = array([[1, 2, 3, 4], [3, 5, 6, 7], [4, 5, 7, 9]])\n",
    "y = ones((4, 4), dtype='int')\n",
    "\n",
    "# Print arrays x and y\n",
    "print(f'x={x}\\n\\ny={y}')\n",
    "\n",
    "# Concatenate arrays x and y along axis 0 (rows)\n",
    "z = concatenate([x, y], axis=0)\n",
    "\n",
    "# Print the concatenated array\n",
    "print(\"\\nConcatenated Array:\")\n",
    "print(z)"
   ]
  },
  {
   "cell_type": "code",
   "execution_count": 36,
   "id": "30fc6813-96f3-4304-bd9d-5bb195f13a1c",
   "metadata": {
    "tags": []
   },
   "outputs": [
    {
     "name": "stdout",
     "output_type": "stream",
     "text": [
      "x=[[1 2 3 4]\n",
      " [3 5 6 7]\n",
      " [4 5 7 9]]\n",
      "\n",
      "y=[[1 1 1 1]\n",
      " [1 1 1 1]\n",
      " [1 1 1 1]]\n",
      "\n",
      "Concatenated Array:\n",
      "[[1 2 3 4 1 1 1 1]\n",
      " [3 5 6 7 1 1 1 1]\n",
      " [4 5 7 9 1 1 1 1]]\n"
     ]
    }
   ],
   "source": [
    "'''np.concatenate([arr1,arr2], axis=1) is equivalent to np.hstack(arr1,arr2) and it Stacks a list of arrays \n",
    "horizontally (along axis 1): for example, given a list of column vectors, appends the columns to form a matrix. i.e'''\n",
    "# Create arrays x and y\n",
    "x = array([[1, 2, 3, 4], [3, 5, 6, 7], [4, 5, 7, 9]])\n",
    "y = ones((3, 4), dtype='int')\n",
    "\n",
    "# Print arrays x and y\n",
    "print(f'x={x}\\n\\ny={y}')\n",
    "\n",
    "# Concatenate arrays x and y along axis 1 (columns)\n",
    "z = concatenate([x, y], axis=1)\n",
    "\n",
    "# Print the concatenated array\n",
    "print(\"\\nConcatenated Array:\")\n",
    "print(z)"
   ]
  },
  {
   "cell_type": "code",
   "execution_count": 38,
   "id": "4e0ee2af-5c9e-432f-87b5-a3b22f4af091",
   "metadata": {
    "tags": []
   },
   "outputs": [
    {
     "name": "stdout",
     "output_type": "stream",
     "text": [
      "x=[[1 2 3 4]\n",
      " [3 5 6 7]\n",
      " [4 5 7 9]]\n",
      "\n",
      "y=[[1 1 1 1]\n",
      " [1 1 1 1]\n",
      " [1 1 1 1]]\n",
      "\n",
      "Stacked Array:\n",
      "[[[1 1]\n",
      "  [2 1]\n",
      "  [3 1]\n",
      "  [4 1]]\n",
      "\n",
      " [[3 1]\n",
      "  [5 1]\n",
      "  [6 1]\n",
      "  [7 1]]\n",
      "\n",
      " [[4 1]\n",
      "  [5 1]\n",
      "  [7 1]\n",
      "  [9 1]]]\n"
     ]
    }
   ],
   "source": [
    "'''np.dstack Stacks arrays depth-wise (along axis 2) i.e element wise stacking based on indexing:'''\n",
    "x = array([[1, 2, 3, 4], [3, 5, 6, 7], [4, 5, 7, 9]])\n",
    "y = ones((3, 4), dtype='int')\n",
    "print(f'x={x}\\n\\ny={y}')\n",
    "z = dstack((x, y))\n",
    "print(\"\\nStacked Array:\")\n",
    "print(z)"
   ]
  },
  {
   "cell_type": "code",
   "execution_count": 40,
   "id": "f1ede7ab-b385-4b14-8c23-a2a11f3e00df",
   "metadata": {
    "tags": []
   },
   "outputs": [
    {
     "name": "stdout",
     "output_type": "stream",
     "text": [
      "x=[[1 2 3 4]\n",
      " [3 5 6 7]\n",
      " [4 5 7 9]] \n",
      " y=[[1 1 1 1]\n",
      " [1 1 1 1]\n",
      " [1 1 1 1]] \n",
      " Sum of Elements of x=56 \n",
      " Sum of Rows of x=[ 8 12 16 20] \n",
      " Sum of Colums of x=[10 21 25]\n"
     ]
    }
   ],
   "source": [
    "'''Addition(add or +) is done between two arrays element wise whereas summation happens over specified elements. \n",
    "Similarly, Multiplication(multiply or *,@) is element wise b/w two or more arrays while Product is over specified elements. \n",
    "Add and multiply functions don't take axis arguments, while Sum and Product take axis as arguments. Note that while \n",
    "using an axis argument we combine arrays in a square [] bracket.'''\n",
    "x=array([[1,2,3,4],[3,5,6,7],[4,5,7,9]])\n",
    "print(f'x={x} \\n y={y} \\n Sum of Elements of x={sum(x)} \\n Sum of Rows of x={sum(x,axis=0)} \\n Sum of Colums of x={sum(x,axis=1)}')"
   ]
  },
  {
   "cell_type": "code",
   "execution_count": 44,
   "id": "765f932f-fa20-4695-8f97-0d20f64a4ae1",
   "metadata": {
    "tags": []
   },
   "outputs": [
    {
     "name": "stdout",
     "output_type": "stream",
     "text": [
      "x=[[1 2 3 4]\n",
      " [3 5 6 7]\n",
      " [4 5 7 9]] \n",
      " y=[[1 1 1 1]\n",
      " [1 1 1 1]\n",
      " [1 1 1 1]] \n",
      " z=[array([[1, 2, 3, 4],\n",
      "       [3, 5, 6, 7],\n",
      "       [4, 5, 7, 9]]), array([[1, 1, 1, 1],\n",
      "       [1, 1, 1, 1],\n",
      "       [1, 1, 1, 1]])] \n",
      " Sum of Elements of z=68 \n",
      " Sum of Rows of z (Vertical Sum of Elements)=[[ 2  3  4  5]\n",
      " [ 4  6  7  8]\n",
      " [ 5  6  8 10]] \n",
      " Sum of Colums of z(Horizontal Sum of Elements)=[[ 8 12 16 20]\n",
      " [ 3  3  3  3]]\n"
     ]
    }
   ],
   "source": [
    "x=array([[1,2,3,4],[3,5,6,7],[4,5,7,9]])\n",
    "y=ones((3,4),dtype='int')\n",
    "z=[x,y]\n",
    "print(f'x={x} \\n y={y} \\n z={z} \\n Sum of Elements of z={sum(z)} \\n Sum of Rows of z (Vertical Sum of Elements)={sum(z,axis=0)} \\n Sum of Colums of z(Horizontal Sum of Elements)={sum(z,axis=1)}')"
   ]
  }
 ],
 "metadata": {
  "kernelspec": {
   "display_name": "Python 3 (ipykernel)",
   "language": "python",
   "name": "python3"
  },
  "language_info": {
   "codemirror_mode": {
    "name": "ipython",
    "version": 3
   },
   "file_extension": ".py",
   "mimetype": "text/x-python",
   "name": "python",
   "nbconvert_exporter": "python",
   "pygments_lexer": "ipython3",
   "version": "3.11.5"
  }
 },
 "nbformat": 4,
 "nbformat_minor": 5
}
